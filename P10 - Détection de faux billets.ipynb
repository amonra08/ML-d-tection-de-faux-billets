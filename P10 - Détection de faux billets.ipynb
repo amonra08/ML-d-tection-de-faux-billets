{
 "cells": [
  {
   "cell_type": "markdown",
   "id": "a0deb142",
   "metadata": {},
   "source": [
    "**Contexte**"
   ]
  },
  {
   "cell_type": "markdown",
   "id": "c77209bf",
   "metadata": {
    "lang": "en"
   },
   "source": [
    "*Le projet consiste à mettre en place un algorithme qui permettra d’identifier automatiquement des billets contrefaits à partir leurs dimensions et des éléments qui les composent. Nous avons à notre disposition un jeu de données contenant les mésures géométriques de 1500 billets dont 1 000 sont vrais et 500 sont faux et une variable précisant la nature du billet*.\n",
    "\n",
    "**Phase 1 : Analyse exploratoire des données**\n",
    "- Description du dataset\n",
    "- Traitement des valeurs manquantes en utilisant la régression linéaire\n",
    "\n",
    "**Phase 2 : Analyse univariée**\n",
    "\n",
    "**Phase 3 K-Means clustering**\n",
    "- Methode du coude\n",
    "- Silhouette score\n",
    "- Plan factoriel\n",
    "- Analyse des centroïdes\n",
    "- Modèle d'évaluation\n",
    "\n",
    "**Phase 4 Régression logistique**\n",
    "- Mise en oeuvre\n",
    "- Tests prédictifs\n",
    "- Modèle d'évaluation\n",
    "\n",
    "**Phase 5 : Validation croisée**\n",
    "- Pipeline\n",
    "\n",
    "**Phase 6 : Mise en oeuvre de la fonction de test**\n",
    "- Préparation des données\n",
    "- Application de la fonction de test"
   ]
  },
  {
   "cell_type": "markdown",
   "id": "9c89ca78",
   "metadata": {},
   "source": [
    "# Analyse exploratoire des données\n",
    "---------------"
   ]
  },
  {
   "cell_type": "markdown",
   "id": "d0ad17b0",
   "metadata": {
    "hide_input": true
   },
   "source": [
    "**Imports modules**"
   ]
  },
  {
   "cell_type": "code",
   "execution_count": 1,
   "id": "7d450fa7",
   "metadata": {
    "ExecuteTime": {
     "end_time": "2022-12-02T06:27:02.311437Z",
     "start_time": "2022-12-02T06:26:53.422197Z"
    }
   },
   "outputs": [
    {
     "name": "stdout",
     "output_type": "stream",
     "text": [
      "Requirement already satisfied: yellowbrick in /Users/stephaneetoughet/opt/anaconda3/lib/python3.9/site-packages (1.5)\n",
      "Requirement already satisfied: scipy>=1.0.0 in /Users/stephaneetoughet/opt/anaconda3/lib/python3.9/site-packages (from yellowbrick) (1.7.1)\n",
      "Requirement already satisfied: cycler>=0.10.0 in /Users/stephaneetoughet/opt/anaconda3/lib/python3.9/site-packages (from yellowbrick) (0.10.0)\n",
      "Requirement already satisfied: scikit-learn>=1.0.0 in /Users/stephaneetoughet/opt/anaconda3/lib/python3.9/site-packages (from yellowbrick) (1.1.3)\n",
      "Requirement already satisfied: matplotlib!=3.0.0,>=2.0.2 in /Users/stephaneetoughet/opt/anaconda3/lib/python3.9/site-packages (from yellowbrick) (3.4.3)\n",
      "Requirement already satisfied: numpy>=1.16.0 in /Users/stephaneetoughet/opt/anaconda3/lib/python3.9/site-packages (from yellowbrick) (1.20.3)\n",
      "Requirement already satisfied: six in /Users/stephaneetoughet/opt/anaconda3/lib/python3.9/site-packages (from cycler>=0.10.0->yellowbrick) (1.16.0)\n",
      "Requirement already satisfied: pyparsing>=2.2.1 in /Users/stephaneetoughet/opt/anaconda3/lib/python3.9/site-packages (from matplotlib!=3.0.0,>=2.0.2->yellowbrick) (3.0.4)\n",
      "Requirement already satisfied: pillow>=6.2.0 in /Users/stephaneetoughet/opt/anaconda3/lib/python3.9/site-packages (from matplotlib!=3.0.0,>=2.0.2->yellowbrick) (8.4.0)\n",
      "Requirement already satisfied: python-dateutil>=2.7 in /Users/stephaneetoughet/opt/anaconda3/lib/python3.9/site-packages (from matplotlib!=3.0.0,>=2.0.2->yellowbrick) (2.8.2)\n",
      "Requirement already satisfied: kiwisolver>=1.0.1 in /Users/stephaneetoughet/opt/anaconda3/lib/python3.9/site-packages (from matplotlib!=3.0.0,>=2.0.2->yellowbrick) (1.3.1)\n",
      "Requirement already satisfied: threadpoolctl>=2.0.0 in /Users/stephaneetoughet/opt/anaconda3/lib/python3.9/site-packages (from scikit-learn>=1.0.0->yellowbrick) (2.2.0)\n",
      "Requirement already satisfied: joblib>=1.0.0 in /Users/stephaneetoughet/opt/anaconda3/lib/python3.9/site-packages (from scikit-learn>=1.0.0->yellowbrick) (1.1.0)\n"
     ]
    }
   ],
   "source": [
    "import pandas as pd\n",
    "import numpy as np\n",
    "import seaborn as sns\n",
    "import matplotlib.pyplot as plt\n",
    "from matplotlib.collections import LineCollection\n",
    "from pandas.plotting import parallel_coordinates\n",
    "\n",
    "import statsmodels.stats.api as sms\n",
    "import statsmodels.formula.api as smf\n",
    "import statsmodels\n",
    "import statsmodels.api as sm\n",
    "from statsmodels.stats.outliers_influence import variance_inflation_factor\n",
    "\n",
    "import scipy.stats as st\n",
    "from scipy.stats import shapiro\n",
    "from scipy import stats\n",
    "from scipy.stats import t\n",
    "from scipy.cluster.hierarchy import dendrogram\n",
    "\n",
    "from sklearn.decomposition import PCA\n",
    "from sklearn.cluster import KMeans\n",
    "from sklearn.metrics import silhouette_score\n",
    "from sklearn.preprocessing import StandardScaler\n",
    "from sklearn.model_selection import train_test_split, StratifiedKFold, GridSearchCV\n",
    "from sklearn.model_selection import train_test_split\n",
    "from sklearn.linear_model import LinearRegression\n",
    "from sklearn import linear_model\n",
    "from sklearn.linear_model import LogisticRegression\n",
    "from sklearn import metrics\n",
    "from sklearn.metrics import accuracy_score, precision_score, recall_score, f1_score, confusion_matrix\n",
    "from sklearn.manifold import TSNE\n",
    "from tqdm.notebook import trange, tqdm\n",
    "from sklearn.pipeline import make_pipeline\n",
    "from sklearn.preprocessing import StandardScaler, MinMaxScaler\n",
    "from sklearn import metrics, linear_model, tree, naive_bayes,neighbors, ensemble, neural_network\n",
    "#from sklearn.model_selection import StratifiedKFold\n",
    "from sklearn.svm import SVC\n",
    "from sklearn.pipeline import Pipeline\n",
    "from sklearn.model_selection import cross_val_score\n",
    "\n",
    "import researchpy\n",
    "\n",
    "!pip install yellowbrick\n",
    "from yellowbrick.cluster import KElbowVisualizer\n",
    "\n",
    "import warnings\n",
    "warnings.filterwarnings(\"ignore\")"
   ]
  },
  {
   "cell_type": "code",
   "execution_count": 2,
   "id": "59466df1",
   "metadata": {
    "ExecuteTime": {
     "end_time": "2022-12-02T06:27:02.350940Z",
     "start_time": "2022-12-02T06:27:02.317347Z"
    },
    "code_folding": []
   },
   "outputs": [],
   "source": [
    "# Fonctions \n",
    "def shapiro_test(x):\n",
    "    '''\n",
    "    The Shapiro-Wilk test tests the null hypothesis that the data was drawn from a normal distribution.\n",
    "\n",
    "    Parameters :\n",
    "        x (array_like) : array of sample data\n",
    "\n",
    "    Returns :\n",
    "        statistic (float) : the test statistic\n",
    "        p-value (float) : the p-value for the hypothesis test\n",
    "    '''\n",
    "    from scipy.stats import shapiro\n",
    "    x1, pval1 = shapiro(x)\n",
    "\n",
    "    print(\"=\"*100,\"\\n\")\n",
    "    print(\"Shapiro-Wilk test\",\"\\n\")\n",
    "    if pval1 < 0.05:\n",
    "        print(\"pval1 < 0.05 ==> l'hypothèse nulle est rejetée (les résidus ne suivent pas une loi normale).)\")\n",
    "    else:\n",
    "        print(\"pval1 > 0.05 ==> Nous ne pouvons pas rejeter l'hypothèse nulle H0 (les résidus suivent une loi normale.)\")\n",
    "    print()\n",
    "    print(\"=\"*100,\"\\n\")\n",
    "    \n",
    "def display_scree_plot(pca):\n",
    "    '''\n",
    "    Creates a scree plot associated with the principal components \n",
    "    \n",
    "    Parameters: \n",
    "        pca : the result of instantian of PCA in scikit learn\n",
    "    '''\n",
    "    scree = pca.explained_variance_ratio_*100\n",
    "    plt.bar(np.arange(len(scree))+1, scree)\n",
    "    plt.plot(np.arange(len(scree))+1, scree.cumsum(),c=\"red\",marker='o')\n",
    "    plt.xlabel(\"Composantes principales\")\n",
    "    plt.ylabel(\"Variance expliquée (%)\")\n",
    "    plt.title(\"Variance expliquée par composante principale\")\n",
    "    plt.show(block=False)\n",
    "    \n",
    "def display_circles(pcs, n_comp, pca, axis_ranks, labels=None, label_rotation=0, lims=None):\n",
    "    '''\n",
    "    Display correlation circles, one for each factorial plane\n",
    "    \n",
    "    Parameters :\n",
    "        pcs : model_pca.components\n",
    "        n_comp (float) : the number of components\n",
    "        pca : the result of instantiate of PCA in scikit learn\n",
    "        axis_rank (float) : the rank of the axis to visualize\n",
    "        labels : labels of our variables    \n",
    "    '''\n",
    "    # For each factorial plane\n",
    "    for d1, d2 in axis_ranks: \n",
    "        if d2 < n_comp:\n",
    "\n",
    "            # Initialize the matplotlib figure\n",
    "            #fig, ax = plt.subplots(figsize=(8,8))\n",
    "\n",
    "            # Determine the limits of the chart\n",
    "            if lims is not None :\n",
    "                xmin, xmax, ymin, ymax = lims\n",
    "            elif pcs.shape[1] < 30 :\n",
    "                xmin, xmax, ymin, ymax = -1, 1, -1, 1\n",
    "            else :\n",
    "                xmin, xmax, ymin, ymax = min(pcs[d1,:]), max(pcs[d1,:]), min(pcs[d2,:]), max(pcs[d2,:])\n",
    "            # Add arrows\n",
    "            # If there are more than 30 arrows, we do not display the triangle at the end\n",
    "            if pcs.shape[1] < 30 :\n",
    "                plt.quiver(np.zeros(pcs.shape[1]), np.zeros(pcs.shape[1]),\n",
    "                   pcs[d1,:], pcs[d2,:], \n",
    "                   angles='xy', scale_units='xy', scale=1, color=\"grey\")\n",
    "            else:\n",
    "                lines = [[[0,0],[x,y]] for x,y in pcs[[d1,d2]].T]\n",
    "                ax.add_collection(LineCollection(lines, axes=ax, alpha=.1, color='black'))\n",
    "            # Display variable names\n",
    "            if labels is not None:  \n",
    "                for i,(x, y) in enumerate(pcs[[d1,d2]].T):\n",
    "                    if x >= xmin and x <= xmax and y >= ymin and y <= ymax :\n",
    "                        plt.text(x, y, labels[i], fontsize='10', ha='center', va='center', rotation=label_rotation, color=\"blue\", alpha=0.5)\n",
    "            # Display circle\n",
    "            circle = plt.Circle((0,0), 1, facecolor='none', edgecolor='b')\n",
    "            plt.gca().add_artist(circle)\n",
    "            # Define the limits of the chart\n",
    "            plt.xlim(xmin, xmax)\n",
    "            plt.ylim(ymin, ymax)\n",
    "            # Display grid lines\n",
    "            plt.plot([-1, 1], [0, 0], color='grey', ls='--')\n",
    "            plt.plot([0, 0], [-1, 1], color='grey', ls='--')\n",
    "            # Label the axes, with the percentage of variance explained\n",
    "            plt.xlabel('PC{} ({}%)'.format(d1+1, round(100*pca.explained_variance_ratio_[d1],1)))\n",
    "            plt.ylabel('PC{} ({}%)'.format(d2+1, round(100*pca.explained_variance_ratio_[d2],1)))\n",
    "            plt.title(\"Correlation Circle (on PC{} and PC{})\".format(d1+1, d2+1))\n",
    "            #plt.show(block=False)\n",
    "\n",
    "def display_factorial_planes(X_projected, n_comp, pca, axis_ranks, labels=None, alpha=1, illustrative_var=None):\n",
    "    '''\n",
    "    Display a scatter plot on a factorial plane, one for each factorial plane\n",
    "\n",
    "    Parameters :\n",
    "        X_projected : model_pca.transform(X_scaled)\n",
    "        n_comp (float) : the number of components\n",
    "        pca : the result of instantiate of PCA in scikit learn\n",
    "        axis_rank : the rank of the axis to visualize\n",
    "        labels : labels of our variables\n",
    "    '''\n",
    "    # For each factorial plane\n",
    "    for d1,d2 in axis_ranks:\n",
    "        if d2 < n_comp:\n",
    " \n",
    "            # Initialize the matplotlib figure      \n",
    "            #fig = plt.figure(figsize=(7,6))\n",
    "        \n",
    "            # Display the points\n",
    "            if illustrative_var is None:\n",
    "                plt.scatter(X_projected[:, d1], X_projected[:, d2], alpha=alpha)\n",
    "            else:\n",
    "                illustrative_var = np.array(illustrative_var)\n",
    "                for value in np.unique(illustrative_var):\n",
    "                    selected = np.where(illustrative_var == value)\n",
    "                    plt.scatter(X_projected[selected, d1], X_projected[selected, d2], alpha=alpha, label=value)\n",
    "                plt.legend()\n",
    "\n",
    "            # Display the labels on the points\n",
    "            if labels is not None:\n",
    "                for i,(x,y) in enumerate(X_projected[:,[d1,d2]]):\n",
    "                    plt.text(x, y, labels[i],\n",
    "                              fontsize='14', ha='center',va='center') \n",
    "                \n",
    "            # Define the limits of the chart\n",
    "            boundary = np.max(np.abs(X_projected[:, [d1,d2]])) * 1.1\n",
    "            plt.xlim([-boundary,boundary])\n",
    "            plt.ylim([-boundary,boundary])\n",
    "        \n",
    "            # Display grid lines\n",
    "            plt.plot([-100, 100], [0, 0], color='brown', ls='--')\n",
    "            plt.plot([0, 0], [-100, 100], color='brown', ls='--')\n",
    "\n",
    "            # Label the axes, with the percentage of variance explained\n",
    "            plt.xlabel('PC{} ({}%)'.format(d1+1, round(100*pca.explained_variance_ratio_[d1],1)))\n",
    "            plt.ylabel('PC{} ({}%)'.format(d2+1, round(100*pca.explained_variance_ratio_[d2],1)))\n",
    "\n",
    "            #plt.show(block=False)\n",
    "            plt.title(\"Projection de points (on PC{} and PC{})\".format(d1+1, d2+1))\n",
    "\n",
    "            \n",
    "            \n",
    "def display_parallel_coordinates(df, num_clusters):\n",
    "    '''Display a parallel coordinates plot for the clusters in df'''\n",
    "\n",
    "    # Select data points for individual clusters\n",
    "    cluster_points = []\n",
    "    for i in range(num_clusters):\n",
    "        cluster_points.append(df[df.cluster==i])\n",
    "    \n",
    "    # Create the plot\n",
    "    fig = plt.figure(figsize=(12, 15))\n",
    "    title = fig.suptitle(\"Parallel Coordinates Plot for the Clusters\", fontsize=18)\n",
    "    fig.subplots_adjust(top=0.95, wspace=0)\n",
    "\n",
    "    # Display one plot for each cluster, with the lines for the main cluster appearing over the lines for the other clusters\n",
    "    for i in range(num_clusters):    \n",
    "        plt.subplot(num_clusters, 1, i+1)\n",
    "        for j,c in enumerate(cluster_points): \n",
    "            if i!= j:\n",
    "                pc = parallel_coordinates(c, 'cluster', color=[addAlpha(palette[j],0.2)])\n",
    "        pc = parallel_coordinates(cluster_points[i], 'cluster', color=[addAlpha(palette[i],0.5)])\n",
    "\n",
    "        # Stagger the axes\n",
    "        ax=plt.gca()\n",
    "        for tick in ax.xaxis.get_major_ticks()[1::2]:\n",
    "            tick.set_pad(20)  "
   ]
  },
  {
   "cell_type": "markdown",
   "id": "4856903d",
   "metadata": {},
   "source": [
    "## Dataset description"
   ]
  },
  {
   "cell_type": "code",
   "execution_count": 3,
   "id": "ea736a49",
   "metadata": {
    "ExecuteTime": {
     "end_time": "2022-12-02T06:27:02.380658Z",
     "start_time": "2022-12-02T06:27:02.353989Z"
    },
    "scrolled": false
   },
   "outputs": [],
   "source": [
    "initial_data = pd.read_csv(\"billets.csv\", sep=\";\")"
   ]
  },
  {
   "cell_type": "code",
   "execution_count": 4,
   "id": "e03e3421",
   "metadata": {
    "ExecuteTime": {
     "end_time": "2022-12-02T06:27:02.412507Z",
     "start_time": "2022-12-02T06:27:02.386233Z"
    }
   },
   "outputs": [
    {
     "data": {
      "text/html": [
       "<div>\n",
       "<style scoped>\n",
       "    .dataframe tbody tr th:only-of-type {\n",
       "        vertical-align: middle;\n",
       "    }\n",
       "\n",
       "    .dataframe tbody tr th {\n",
       "        vertical-align: top;\n",
       "    }\n",
       "\n",
       "    .dataframe thead th {\n",
       "        text-align: right;\n",
       "    }\n",
       "</style>\n",
       "<table border=\"1\" class=\"dataframe\">\n",
       "  <thead>\n",
       "    <tr style=\"text-align: right;\">\n",
       "      <th></th>\n",
       "      <th>is_genuine</th>\n",
       "      <th>diagonal</th>\n",
       "      <th>height_left</th>\n",
       "      <th>height_right</th>\n",
       "      <th>margin_low</th>\n",
       "      <th>margin_up</th>\n",
       "      <th>length</th>\n",
       "    </tr>\n",
       "  </thead>\n",
       "  <tbody>\n",
       "    <tr>\n",
       "      <th>0</th>\n",
       "      <td>True</td>\n",
       "      <td>171.81</td>\n",
       "      <td>104.86</td>\n",
       "      <td>104.95</td>\n",
       "      <td>4.52</td>\n",
       "      <td>2.89</td>\n",
       "      <td>112.83</td>\n",
       "    </tr>\n",
       "    <tr>\n",
       "      <th>1</th>\n",
       "      <td>True</td>\n",
       "      <td>171.46</td>\n",
       "      <td>103.36</td>\n",
       "      <td>103.66</td>\n",
       "      <td>3.77</td>\n",
       "      <td>2.99</td>\n",
       "      <td>113.09</td>\n",
       "    </tr>\n",
       "    <tr>\n",
       "      <th>2</th>\n",
       "      <td>True</td>\n",
       "      <td>172.69</td>\n",
       "      <td>104.48</td>\n",
       "      <td>103.50</td>\n",
       "      <td>4.40</td>\n",
       "      <td>2.94</td>\n",
       "      <td>113.16</td>\n",
       "    </tr>\n",
       "    <tr>\n",
       "      <th>3</th>\n",
       "      <td>True</td>\n",
       "      <td>171.36</td>\n",
       "      <td>103.91</td>\n",
       "      <td>103.94</td>\n",
       "      <td>3.62</td>\n",
       "      <td>3.01</td>\n",
       "      <td>113.51</td>\n",
       "    </tr>\n",
       "    <tr>\n",
       "      <th>4</th>\n",
       "      <td>True</td>\n",
       "      <td>171.73</td>\n",
       "      <td>104.28</td>\n",
       "      <td>103.46</td>\n",
       "      <td>4.04</td>\n",
       "      <td>3.48</td>\n",
       "      <td>112.54</td>\n",
       "    </tr>\n",
       "  </tbody>\n",
       "</table>\n",
       "</div>"
      ],
      "text/plain": [
       "   is_genuine  diagonal  height_left  height_right  margin_low  margin_up  \\\n",
       "0        True    171.81       104.86        104.95        4.52       2.89   \n",
       "1        True    171.46       103.36        103.66        3.77       2.99   \n",
       "2        True    172.69       104.48        103.50        4.40       2.94   \n",
       "3        True    171.36       103.91        103.94        3.62       3.01   \n",
       "4        True    171.73       104.28        103.46        4.04       3.48   \n",
       "\n",
       "   length  \n",
       "0  112.83  \n",
       "1  113.09  \n",
       "2  113.16  \n",
       "3  113.51  \n",
       "4  112.54  "
      ]
     },
     "execution_count": 4,
     "metadata": {},
     "output_type": "execute_result"
    }
   ],
   "source": [
    "initial_data.head(5)"
   ]
  },
  {
   "cell_type": "code",
   "execution_count": 5,
   "id": "642a2e94",
   "metadata": {
    "ExecuteTime": {
     "end_time": "2022-12-02T06:27:02.421764Z",
     "start_time": "2022-12-02T06:27:02.415502Z"
    }
   },
   "outputs": [
    {
     "name": "stdout",
     "output_type": "stream",
     "text": [
      "Taille du dataset initial_data:  (1500, 7)\n"
     ]
    }
   ],
   "source": [
    "print (\"Taille du dataset initial_data: \",initial_data.shape)"
   ]
  },
  {
   "cell_type": "code",
   "execution_count": 6,
   "id": "140cfbef",
   "metadata": {
    "ExecuteTime": {
     "end_time": "2022-12-02T06:27:02.434304Z",
     "start_time": "2022-12-02T06:27:02.425725Z"
    }
   },
   "outputs": [
    {
     "data": {
      "text/plain": [
       "Index(['is_genuine', 'diagonal', 'height_left', 'height_right', 'margin_low',\n",
       "       'margin_up', 'length'],\n",
       "      dtype='object')"
      ]
     },
     "execution_count": 6,
     "metadata": {},
     "output_type": "execute_result"
    }
   ],
   "source": [
    "# Noms des colonnes\n",
    "initial_data.columns"
   ]
  },
  {
   "cell_type": "code",
   "execution_count": 7,
   "id": "692d3bcb",
   "metadata": {
    "ExecuteTime": {
     "end_time": "2022-12-02T06:27:02.462382Z",
     "start_time": "2022-12-02T06:27:02.437325Z"
    }
   },
   "outputs": [
    {
     "name": "stdout",
     "output_type": "stream",
     "text": [
      "<class 'pandas.core.frame.DataFrame'>\n",
      "RangeIndex: 1500 entries, 0 to 1499\n",
      "Data columns (total 7 columns):\n",
      " #   Column        Non-Null Count  Dtype  \n",
      "---  ------        --------------  -----  \n",
      " 0   is_genuine    1500 non-null   bool   \n",
      " 1   diagonal      1500 non-null   float64\n",
      " 2   height_left   1500 non-null   float64\n",
      " 3   height_right  1500 non-null   float64\n",
      " 4   margin_low    1463 non-null   float64\n",
      " 5   margin_up     1500 non-null   float64\n",
      " 6   length        1500 non-null   float64\n",
      "dtypes: bool(1), float64(6)\n",
      "memory usage: 71.9 KB\n"
     ]
    }
   ],
   "source": [
    "# Résumé du dataset\n",
    "initial_data.info()"
   ]
  },
  {
   "cell_type": "code",
   "execution_count": 8,
   "id": "7b0ef62c",
   "metadata": {
    "ExecuteTime": {
     "end_time": "2022-12-02T06:27:02.473898Z",
     "start_time": "2022-12-02T06:27:02.465041Z"
    },
    "scrolled": true
   },
   "outputs": [
    {
     "data": {
      "text/plain": [
       "True     1000\n",
       "False     500\n",
       "Name: is_genuine, dtype: int64"
      ]
     },
     "execution_count": 8,
     "metadata": {},
     "output_type": "execute_result"
    }
   ],
   "source": [
    "initial_data[\"is_genuine\"].value_counts()"
   ]
  },
  {
   "cell_type": "code",
   "execution_count": 9,
   "id": "b12f2c58",
   "metadata": {
    "ExecuteTime": {
     "end_time": "2022-12-02T06:27:02.486147Z",
     "start_time": "2022-12-02T06:27:02.476587Z"
    }
   },
   "outputs": [
    {
     "data": {
      "text/plain": [
       "is_genuine       0\n",
       "diagonal         0\n",
       "height_left      0\n",
       "height_right     0\n",
       "margin_low      37\n",
       "margin_up        0\n",
       "length           0\n",
       "dtype: int64"
      ]
     },
     "execution_count": 9,
     "metadata": {},
     "output_type": "execute_result"
    }
   ],
   "source": [
    "initial_data.isna().sum()"
   ]
  },
  {
   "cell_type": "markdown",
   "id": "dd6c4d7a",
   "metadata": {},
   "source": [
    "**Observations** :\n",
    "\n",
    "Nous disposons d'un jeu de données contenant les mesures géométriques de 1 500 billets de banque :\n",
    "\n",
    "→ 1 000 sont vrais et 500 sont faux. Une variable est booléenne : elle nous donne la nature du billet de banque (Vrai ou Faux).\n",
    "\n",
    "Danger : 37 valeurs sont manquantes dans la colonne \"margin_low\".\n",
    "\n",
    "→ Nous pouvons prédire les valeurs manquantes sur la variable \"margin_low\" en utilisant la régression linéaire (statsmodel)"
   ]
  },
  {
   "cell_type": "code",
   "execution_count": 10,
   "id": "9c7d63a6",
   "metadata": {
    "ExecuteTime": {
     "end_time": "2022-12-02T06:27:02.529462Z",
     "start_time": "2022-12-02T06:27:02.493572Z"
    }
   },
   "outputs": [
    {
     "data": {
      "text/html": [
       "<div>\n",
       "<style scoped>\n",
       "    .dataframe tbody tr th:only-of-type {\n",
       "        vertical-align: middle;\n",
       "    }\n",
       "\n",
       "    .dataframe tbody tr th {\n",
       "        vertical-align: top;\n",
       "    }\n",
       "\n",
       "    .dataframe thead th {\n",
       "        text-align: right;\n",
       "    }\n",
       "</style>\n",
       "<table border=\"1\" class=\"dataframe\">\n",
       "  <thead>\n",
       "    <tr style=\"text-align: right;\">\n",
       "      <th></th>\n",
       "      <th>diagonal</th>\n",
       "      <th>height_left</th>\n",
       "      <th>height_right</th>\n",
       "      <th>margin_low</th>\n",
       "      <th>margin_up</th>\n",
       "      <th>length</th>\n",
       "    </tr>\n",
       "  </thead>\n",
       "  <tbody>\n",
       "    <tr>\n",
       "      <th>count</th>\n",
       "      <td>1500.00</td>\n",
       "      <td>1500.00</td>\n",
       "      <td>1500.00</td>\n",
       "      <td>1463.00</td>\n",
       "      <td>1500.00</td>\n",
       "      <td>1500.00</td>\n",
       "    </tr>\n",
       "    <tr>\n",
       "      <th>mean</th>\n",
       "      <td>171.96</td>\n",
       "      <td>104.03</td>\n",
       "      <td>103.92</td>\n",
       "      <td>4.49</td>\n",
       "      <td>3.15</td>\n",
       "      <td>112.68</td>\n",
       "    </tr>\n",
       "    <tr>\n",
       "      <th>std</th>\n",
       "      <td>0.31</td>\n",
       "      <td>0.30</td>\n",
       "      <td>0.33</td>\n",
       "      <td>0.66</td>\n",
       "      <td>0.23</td>\n",
       "      <td>0.87</td>\n",
       "    </tr>\n",
       "    <tr>\n",
       "      <th>min</th>\n",
       "      <td>171.04</td>\n",
       "      <td>103.14</td>\n",
       "      <td>102.82</td>\n",
       "      <td>2.98</td>\n",
       "      <td>2.27</td>\n",
       "      <td>109.49</td>\n",
       "    </tr>\n",
       "    <tr>\n",
       "      <th>25%</th>\n",
       "      <td>171.75</td>\n",
       "      <td>103.82</td>\n",
       "      <td>103.71</td>\n",
       "      <td>4.01</td>\n",
       "      <td>2.99</td>\n",
       "      <td>112.03</td>\n",
       "    </tr>\n",
       "    <tr>\n",
       "      <th>50%</th>\n",
       "      <td>171.96</td>\n",
       "      <td>104.04</td>\n",
       "      <td>103.92</td>\n",
       "      <td>4.31</td>\n",
       "      <td>3.14</td>\n",
       "      <td>112.96</td>\n",
       "    </tr>\n",
       "    <tr>\n",
       "      <th>75%</th>\n",
       "      <td>172.17</td>\n",
       "      <td>104.23</td>\n",
       "      <td>104.15</td>\n",
       "      <td>4.87</td>\n",
       "      <td>3.31</td>\n",
       "      <td>113.34</td>\n",
       "    </tr>\n",
       "    <tr>\n",
       "      <th>max</th>\n",
       "      <td>173.01</td>\n",
       "      <td>104.88</td>\n",
       "      <td>104.95</td>\n",
       "      <td>6.90</td>\n",
       "      <td>3.91</td>\n",
       "      <td>114.44</td>\n",
       "    </tr>\n",
       "  </tbody>\n",
       "</table>\n",
       "</div>"
      ],
      "text/plain": [
       "       diagonal  height_left  height_right  margin_low  margin_up   length\n",
       "count   1500.00      1500.00       1500.00     1463.00    1500.00  1500.00\n",
       "mean     171.96       104.03        103.92        4.49       3.15   112.68\n",
       "std        0.31         0.30          0.33        0.66       0.23     0.87\n",
       "min      171.04       103.14        102.82        2.98       2.27   109.49\n",
       "25%      171.75       103.82        103.71        4.01       2.99   112.03\n",
       "50%      171.96       104.04        103.92        4.31       3.14   112.96\n",
       "75%      172.17       104.23        104.15        4.87       3.31   113.34\n",
       "max      173.01       104.88        104.95        6.90       3.91   114.44"
      ]
     },
     "execution_count": 10,
     "metadata": {},
     "output_type": "execute_result"
    }
   ],
   "source": [
    "# Propriétés statistiques du dataset\n",
    "initial_data.describe().round(2)"
   ]
  },
  {
   "cell_type": "code",
   "execution_count": 11,
   "id": "11a87e3c",
   "metadata": {
    "ExecuteTime": {
     "end_time": "2022-12-02T06:27:02.567167Z",
     "start_time": "2022-12-02T06:27:02.534790Z"
    },
    "scrolled": true
   },
   "outputs": [
    {
     "data": {
      "text/html": [
       "<div>\n",
       "<style scoped>\n",
       "    .dataframe tbody tr th:only-of-type {\n",
       "        vertical-align: middle;\n",
       "    }\n",
       "\n",
       "    .dataframe tbody tr th {\n",
       "        vertical-align: top;\n",
       "    }\n",
       "\n",
       "    .dataframe thead th {\n",
       "        text-align: right;\n",
       "    }\n",
       "</style>\n",
       "<table border=\"1\" class=\"dataframe\">\n",
       "  <thead>\n",
       "    <tr style=\"text-align: right;\">\n",
       "      <th></th>\n",
       "      <th>is_genuine</th>\n",
       "      <th>diagonal</th>\n",
       "      <th>height_left</th>\n",
       "      <th>height_right</th>\n",
       "      <th>margin_low</th>\n",
       "      <th>margin_up</th>\n",
       "      <th>length</th>\n",
       "    </tr>\n",
       "  </thead>\n",
       "  <tbody>\n",
       "    <tr>\n",
       "      <th>72</th>\n",
       "      <td>True</td>\n",
       "      <td>171.94</td>\n",
       "      <td>103.89</td>\n",
       "      <td>103.45</td>\n",
       "      <td>NaN</td>\n",
       "      <td>3.25</td>\n",
       "      <td>112.79</td>\n",
       "    </tr>\n",
       "    <tr>\n",
       "      <th>99</th>\n",
       "      <td>True</td>\n",
       "      <td>171.93</td>\n",
       "      <td>104.07</td>\n",
       "      <td>104.18</td>\n",
       "      <td>NaN</td>\n",
       "      <td>3.14</td>\n",
       "      <td>113.08</td>\n",
       "    </tr>\n",
       "    <tr>\n",
       "      <th>151</th>\n",
       "      <td>True</td>\n",
       "      <td>172.07</td>\n",
       "      <td>103.80</td>\n",
       "      <td>104.38</td>\n",
       "      <td>NaN</td>\n",
       "      <td>3.02</td>\n",
       "      <td>112.93</td>\n",
       "    </tr>\n",
       "    <tr>\n",
       "      <th>197</th>\n",
       "      <td>True</td>\n",
       "      <td>171.45</td>\n",
       "      <td>103.66</td>\n",
       "      <td>103.80</td>\n",
       "      <td>NaN</td>\n",
       "      <td>3.62</td>\n",
       "      <td>113.27</td>\n",
       "    </tr>\n",
       "    <tr>\n",
       "      <th>241</th>\n",
       "      <td>True</td>\n",
       "      <td>171.83</td>\n",
       "      <td>104.14</td>\n",
       "      <td>104.06</td>\n",
       "      <td>NaN</td>\n",
       "      <td>3.02</td>\n",
       "      <td>112.36</td>\n",
       "    </tr>\n",
       "    <tr>\n",
       "      <th>251</th>\n",
       "      <td>True</td>\n",
       "      <td>171.80</td>\n",
       "      <td>103.26</td>\n",
       "      <td>102.82</td>\n",
       "      <td>NaN</td>\n",
       "      <td>2.95</td>\n",
       "      <td>113.22</td>\n",
       "    </tr>\n",
       "    <tr>\n",
       "      <th>284</th>\n",
       "      <td>True</td>\n",
       "      <td>171.92</td>\n",
       "      <td>103.83</td>\n",
       "      <td>103.76</td>\n",
       "      <td>NaN</td>\n",
       "      <td>3.23</td>\n",
       "      <td>113.29</td>\n",
       "    </tr>\n",
       "    <tr>\n",
       "      <th>334</th>\n",
       "      <td>True</td>\n",
       "      <td>171.85</td>\n",
       "      <td>103.70</td>\n",
       "      <td>103.96</td>\n",
       "      <td>NaN</td>\n",
       "      <td>3.00</td>\n",
       "      <td>113.36</td>\n",
       "    </tr>\n",
       "    <tr>\n",
       "      <th>410</th>\n",
       "      <td>True</td>\n",
       "      <td>172.56</td>\n",
       "      <td>103.72</td>\n",
       "      <td>103.51</td>\n",
       "      <td>NaN</td>\n",
       "      <td>3.12</td>\n",
       "      <td>112.95</td>\n",
       "    </tr>\n",
       "    <tr>\n",
       "      <th>413</th>\n",
       "      <td>True</td>\n",
       "      <td>172.30</td>\n",
       "      <td>103.66</td>\n",
       "      <td>103.50</td>\n",
       "      <td>NaN</td>\n",
       "      <td>3.16</td>\n",
       "      <td>112.95</td>\n",
       "    </tr>\n",
       "    <tr>\n",
       "      <th>445</th>\n",
       "      <td>True</td>\n",
       "      <td>172.34</td>\n",
       "      <td>104.42</td>\n",
       "      <td>103.22</td>\n",
       "      <td>NaN</td>\n",
       "      <td>3.01</td>\n",
       "      <td>112.97</td>\n",
       "    </tr>\n",
       "    <tr>\n",
       "      <th>481</th>\n",
       "      <td>True</td>\n",
       "      <td>171.81</td>\n",
       "      <td>103.53</td>\n",
       "      <td>103.96</td>\n",
       "      <td>NaN</td>\n",
       "      <td>2.71</td>\n",
       "      <td>113.99</td>\n",
       "    </tr>\n",
       "    <tr>\n",
       "      <th>505</th>\n",
       "      <td>True</td>\n",
       "      <td>172.01</td>\n",
       "      <td>103.97</td>\n",
       "      <td>104.05</td>\n",
       "      <td>NaN</td>\n",
       "      <td>2.98</td>\n",
       "      <td>113.65</td>\n",
       "    </tr>\n",
       "    <tr>\n",
       "      <th>611</th>\n",
       "      <td>True</td>\n",
       "      <td>171.80</td>\n",
       "      <td>103.68</td>\n",
       "      <td>103.49</td>\n",
       "      <td>NaN</td>\n",
       "      <td>3.30</td>\n",
       "      <td>112.84</td>\n",
       "    </tr>\n",
       "    <tr>\n",
       "      <th>654</th>\n",
       "      <td>True</td>\n",
       "      <td>171.97</td>\n",
       "      <td>103.69</td>\n",
       "      <td>103.54</td>\n",
       "      <td>NaN</td>\n",
       "      <td>2.70</td>\n",
       "      <td>112.79</td>\n",
       "    </tr>\n",
       "    <tr>\n",
       "      <th>675</th>\n",
       "      <td>True</td>\n",
       "      <td>171.60</td>\n",
       "      <td>103.85</td>\n",
       "      <td>103.91</td>\n",
       "      <td>NaN</td>\n",
       "      <td>2.56</td>\n",
       "      <td>113.27</td>\n",
       "    </tr>\n",
       "    <tr>\n",
       "      <th>710</th>\n",
       "      <td>True</td>\n",
       "      <td>172.03</td>\n",
       "      <td>103.97</td>\n",
       "      <td>103.86</td>\n",
       "      <td>NaN</td>\n",
       "      <td>3.07</td>\n",
       "      <td>112.65</td>\n",
       "    </tr>\n",
       "    <tr>\n",
       "      <th>739</th>\n",
       "      <td>True</td>\n",
       "      <td>172.07</td>\n",
       "      <td>103.74</td>\n",
       "      <td>103.76</td>\n",
       "      <td>NaN</td>\n",
       "      <td>3.09</td>\n",
       "      <td>112.41</td>\n",
       "    </tr>\n",
       "    <tr>\n",
       "      <th>742</th>\n",
       "      <td>True</td>\n",
       "      <td>172.14</td>\n",
       "      <td>104.06</td>\n",
       "      <td>103.96</td>\n",
       "      <td>NaN</td>\n",
       "      <td>3.24</td>\n",
       "      <td>113.07</td>\n",
       "    </tr>\n",
       "    <tr>\n",
       "      <th>780</th>\n",
       "      <td>True</td>\n",
       "      <td>172.41</td>\n",
       "      <td>103.95</td>\n",
       "      <td>103.79</td>\n",
       "      <td>NaN</td>\n",
       "      <td>3.13</td>\n",
       "      <td>113.41</td>\n",
       "    </tr>\n",
       "    <tr>\n",
       "      <th>798</th>\n",
       "      <td>True</td>\n",
       "      <td>171.96</td>\n",
       "      <td>103.84</td>\n",
       "      <td>103.62</td>\n",
       "      <td>NaN</td>\n",
       "      <td>3.01</td>\n",
       "      <td>114.44</td>\n",
       "    </tr>\n",
       "    <tr>\n",
       "      <th>844</th>\n",
       "      <td>True</td>\n",
       "      <td>171.62</td>\n",
       "      <td>104.14</td>\n",
       "      <td>104.49</td>\n",
       "      <td>NaN</td>\n",
       "      <td>2.99</td>\n",
       "      <td>113.35</td>\n",
       "    </tr>\n",
       "    <tr>\n",
       "      <th>845</th>\n",
       "      <td>True</td>\n",
       "      <td>172.02</td>\n",
       "      <td>104.21</td>\n",
       "      <td>104.05</td>\n",
       "      <td>NaN</td>\n",
       "      <td>2.90</td>\n",
       "      <td>113.62</td>\n",
       "    </tr>\n",
       "    <tr>\n",
       "      <th>871</th>\n",
       "      <td>True</td>\n",
       "      <td>171.37</td>\n",
       "      <td>104.07</td>\n",
       "      <td>103.75</td>\n",
       "      <td>NaN</td>\n",
       "      <td>3.07</td>\n",
       "      <td>113.27</td>\n",
       "    </tr>\n",
       "    <tr>\n",
       "      <th>895</th>\n",
       "      <td>True</td>\n",
       "      <td>171.81</td>\n",
       "      <td>103.68</td>\n",
       "      <td>103.80</td>\n",
       "      <td>NaN</td>\n",
       "      <td>2.98</td>\n",
       "      <td>113.82</td>\n",
       "    </tr>\n",
       "    <tr>\n",
       "      <th>919</th>\n",
       "      <td>True</td>\n",
       "      <td>171.92</td>\n",
       "      <td>103.68</td>\n",
       "      <td>103.45</td>\n",
       "      <td>NaN</td>\n",
       "      <td>2.58</td>\n",
       "      <td>113.68</td>\n",
       "    </tr>\n",
       "    <tr>\n",
       "      <th>945</th>\n",
       "      <td>True</td>\n",
       "      <td>172.09</td>\n",
       "      <td>103.74</td>\n",
       "      <td>103.52</td>\n",
       "      <td>NaN</td>\n",
       "      <td>3.02</td>\n",
       "      <td>112.78</td>\n",
       "    </tr>\n",
       "    <tr>\n",
       "      <th>946</th>\n",
       "      <td>True</td>\n",
       "      <td>171.63</td>\n",
       "      <td>103.87</td>\n",
       "      <td>104.66</td>\n",
       "      <td>NaN</td>\n",
       "      <td>3.27</td>\n",
       "      <td>112.68</td>\n",
       "    </tr>\n",
       "    <tr>\n",
       "      <th>981</th>\n",
       "      <td>True</td>\n",
       "      <td>172.02</td>\n",
       "      <td>104.23</td>\n",
       "      <td>103.72</td>\n",
       "      <td>NaN</td>\n",
       "      <td>2.99</td>\n",
       "      <td>113.37</td>\n",
       "    </tr>\n",
       "    <tr>\n",
       "      <th>1076</th>\n",
       "      <td>False</td>\n",
       "      <td>171.57</td>\n",
       "      <td>104.27</td>\n",
       "      <td>104.44</td>\n",
       "      <td>NaN</td>\n",
       "      <td>3.21</td>\n",
       "      <td>111.87</td>\n",
       "    </tr>\n",
       "    <tr>\n",
       "      <th>1121</th>\n",
       "      <td>False</td>\n",
       "      <td>171.40</td>\n",
       "      <td>104.38</td>\n",
       "      <td>104.19</td>\n",
       "      <td>NaN</td>\n",
       "      <td>3.17</td>\n",
       "      <td>112.39</td>\n",
       "    </tr>\n",
       "    <tr>\n",
       "      <th>1176</th>\n",
       "      <td>False</td>\n",
       "      <td>171.59</td>\n",
       "      <td>104.05</td>\n",
       "      <td>103.94</td>\n",
       "      <td>NaN</td>\n",
       "      <td>3.02</td>\n",
       "      <td>111.29</td>\n",
       "    </tr>\n",
       "    <tr>\n",
       "      <th>1303</th>\n",
       "      <td>False</td>\n",
       "      <td>172.17</td>\n",
       "      <td>104.49</td>\n",
       "      <td>103.76</td>\n",
       "      <td>NaN</td>\n",
       "      <td>2.93</td>\n",
       "      <td>111.21</td>\n",
       "    </tr>\n",
       "    <tr>\n",
       "      <th>1315</th>\n",
       "      <td>False</td>\n",
       "      <td>172.08</td>\n",
       "      <td>104.15</td>\n",
       "      <td>104.17</td>\n",
       "      <td>NaN</td>\n",
       "      <td>3.40</td>\n",
       "      <td>112.29</td>\n",
       "    </tr>\n",
       "    <tr>\n",
       "      <th>1347</th>\n",
       "      <td>False</td>\n",
       "      <td>171.72</td>\n",
       "      <td>104.46</td>\n",
       "      <td>104.12</td>\n",
       "      <td>NaN</td>\n",
       "      <td>3.61</td>\n",
       "      <td>110.31</td>\n",
       "    </tr>\n",
       "    <tr>\n",
       "      <th>1435</th>\n",
       "      <td>False</td>\n",
       "      <td>172.66</td>\n",
       "      <td>104.33</td>\n",
       "      <td>104.41</td>\n",
       "      <td>NaN</td>\n",
       "      <td>3.56</td>\n",
       "      <td>111.47</td>\n",
       "    </tr>\n",
       "    <tr>\n",
       "      <th>1438</th>\n",
       "      <td>False</td>\n",
       "      <td>171.90</td>\n",
       "      <td>104.28</td>\n",
       "      <td>104.29</td>\n",
       "      <td>NaN</td>\n",
       "      <td>3.24</td>\n",
       "      <td>111.49</td>\n",
       "    </tr>\n",
       "  </tbody>\n",
       "</table>\n",
       "</div>"
      ],
      "text/plain": [
       "      is_genuine  diagonal  height_left  height_right  margin_low  margin_up  \\\n",
       "72          True    171.94       103.89        103.45         NaN       3.25   \n",
       "99          True    171.93       104.07        104.18         NaN       3.14   \n",
       "151         True    172.07       103.80        104.38         NaN       3.02   \n",
       "197         True    171.45       103.66        103.80         NaN       3.62   \n",
       "241         True    171.83       104.14        104.06         NaN       3.02   \n",
       "251         True    171.80       103.26        102.82         NaN       2.95   \n",
       "284         True    171.92       103.83        103.76         NaN       3.23   \n",
       "334         True    171.85       103.70        103.96         NaN       3.00   \n",
       "410         True    172.56       103.72        103.51         NaN       3.12   \n",
       "413         True    172.30       103.66        103.50         NaN       3.16   \n",
       "445         True    172.34       104.42        103.22         NaN       3.01   \n",
       "481         True    171.81       103.53        103.96         NaN       2.71   \n",
       "505         True    172.01       103.97        104.05         NaN       2.98   \n",
       "611         True    171.80       103.68        103.49         NaN       3.30   \n",
       "654         True    171.97       103.69        103.54         NaN       2.70   \n",
       "675         True    171.60       103.85        103.91         NaN       2.56   \n",
       "710         True    172.03       103.97        103.86         NaN       3.07   \n",
       "739         True    172.07       103.74        103.76         NaN       3.09   \n",
       "742         True    172.14       104.06        103.96         NaN       3.24   \n",
       "780         True    172.41       103.95        103.79         NaN       3.13   \n",
       "798         True    171.96       103.84        103.62         NaN       3.01   \n",
       "844         True    171.62       104.14        104.49         NaN       2.99   \n",
       "845         True    172.02       104.21        104.05         NaN       2.90   \n",
       "871         True    171.37       104.07        103.75         NaN       3.07   \n",
       "895         True    171.81       103.68        103.80         NaN       2.98   \n",
       "919         True    171.92       103.68        103.45         NaN       2.58   \n",
       "945         True    172.09       103.74        103.52         NaN       3.02   \n",
       "946         True    171.63       103.87        104.66         NaN       3.27   \n",
       "981         True    172.02       104.23        103.72         NaN       2.99   \n",
       "1076       False    171.57       104.27        104.44         NaN       3.21   \n",
       "1121       False    171.40       104.38        104.19         NaN       3.17   \n",
       "1176       False    171.59       104.05        103.94         NaN       3.02   \n",
       "1303       False    172.17       104.49        103.76         NaN       2.93   \n",
       "1315       False    172.08       104.15        104.17         NaN       3.40   \n",
       "1347       False    171.72       104.46        104.12         NaN       3.61   \n",
       "1435       False    172.66       104.33        104.41         NaN       3.56   \n",
       "1438       False    171.90       104.28        104.29         NaN       3.24   \n",
       "\n",
       "      length  \n",
       "72    112.79  \n",
       "99    113.08  \n",
       "151   112.93  \n",
       "197   113.27  \n",
       "241   112.36  \n",
       "251   113.22  \n",
       "284   113.29  \n",
       "334   113.36  \n",
       "410   112.95  \n",
       "413   112.95  \n",
       "445   112.97  \n",
       "481   113.99  \n",
       "505   113.65  \n",
       "611   112.84  \n",
       "654   112.79  \n",
       "675   113.27  \n",
       "710   112.65  \n",
       "739   112.41  \n",
       "742   113.07  \n",
       "780   113.41  \n",
       "798   114.44  \n",
       "844   113.35  \n",
       "845   113.62  \n",
       "871   113.27  \n",
       "895   113.82  \n",
       "919   113.68  \n",
       "945   112.78  \n",
       "946   112.68  \n",
       "981   113.37  \n",
       "1076  111.87  \n",
       "1121  112.39  \n",
       "1176  111.29  \n",
       "1303  111.21  \n",
       "1315  112.29  \n",
       "1347  110.31  \n",
       "1435  111.47  \n",
       "1438  111.49  "
      ]
     },
     "execution_count": 11,
     "metadata": {},
     "output_type": "execute_result"
    }
   ],
   "source": [
    "# Affichage de toutes les lignes ayant des valeurs manquantes dans la colonne margin_low\n",
    "initial_data.loc[initial_data[\"margin_low\"].isna(),:]"
   ]
  },
  {
   "cell_type": "markdown",
   "id": "e74307a2",
   "metadata": {},
   "source": [
    "## Traitement des valeurs manquantes par régression linéaire \n",
    "---"
   ]
  },
  {
   "cell_type": "markdown",
   "id": "125578a9",
   "metadata": {},
   "source": [
    "### Régression linéaire"
   ]
  },
  {
   "cell_type": "code",
   "execution_count": 12,
   "id": "f99f0d8d",
   "metadata": {
    "ExecuteTime": {
     "end_time": "2022-12-02T06:27:02.862789Z",
     "start_time": "2022-12-02T06:27:02.569794Z"
    }
   },
   "outputs": [
    {
     "data": {
      "image/png": "[encoded data removed]",
      "text/plain": [
       "<Figure size 576x396 with 1 Axes>"
      ]
     },
     "metadata": {},
     "output_type": "display_data"
    }
   ],
   "source": [
    "# Représentation graphique\n",
    "sns.set()\n",
    "ax = sns.scatterplot(x=\"margin_low\", y=\"is_genuine\", data=initial_data)"
   ]
  },
  {
   "cell_type": "markdown",
   "id": "cb93488e",
   "metadata": {},
   "source": [
    "**Observations :**\n",
    "Au-delà d'une marge basse de 5, on constate que les billets sont pour la plupart faux.\n",
    "\n",
    "Nous décidons de supprimer la variable \"is_genuine\" pour éviter une influence de cette variable sur nos résultats."
   ]
  },
  {
   "cell_type": "code",
   "execution_count": 13,
   "id": "8d02a4e4",
   "metadata": {
    "ExecuteTime": {
     "end_time": "2022-12-02T06:27:02.876055Z",
     "start_time": "2022-12-02T06:27:02.868578Z"
    }
   },
   "outputs": [],
   "source": [
    "# Préparation des données\n",
    "df = initial_data[['diagonal', 'height_left', 'height_right', 'margin_low',\n",
    "           'margin_up', 'length']]"
   ]
  },
  {
   "cell_type": "code",
   "execution_count": 14,
   "id": "b3f9f096",
   "metadata": {
    "ExecuteTime": {
     "end_time": "2022-12-02T06:27:02.934786Z",
     "start_time": "2022-12-02T06:27:02.878936Z"
    }
   },
   "outputs": [
    {
     "name": "stdout",
     "output_type": "stream",
     "text": [
      "                            OLS Regression Results                            \n",
      "==============================================================================\n",
      "Dep. Variable:             margin_low   R-squared:                       0.477\n",
      "Model:                            OLS   Adj. R-squared:                  0.476\n",
      "Method:                 Least Squares   F-statistic:                     266.1\n",
      "Date:                Fri, 02 Dec 2022   Prob (F-statistic):          2.60e-202\n",
      "Time:                        07:27:02   Log-Likelihood:                -1001.3\n",
      "No. Observations:                1463   AIC:                             2015.\n",
      "Df Residuals:                    1457   BIC:                             2046.\n",
      "Df Model:                           5                                         \n",
      "Covariance Type:            nonrobust                                         \n",
      "================================================================================\n",
      "                   coef    std err          t      P>|t|      [0.025      0.975]\n",
      "--------------------------------------------------------------------------------\n",
      "Intercept       22.9948      9.656      2.382      0.017       4.055      41.935\n",
      "diagonal        -0.1111      0.041     -2.680      0.007      -0.192      -0.030\n",
      "height_left      0.1841      0.045      4.113      0.000       0.096       0.272\n",
      "height_right     0.2571      0.043      5.978      0.000       0.173       0.342\n",
      "margin_up        0.2562      0.064      3.980      0.000       0.130       0.382\n",
      "length          -0.4091      0.018    -22.627      0.000      -0.445      -0.374\n",
      "==============================================================================\n",
      "Omnibus:                       73.627   Durbin-Watson:                   1.893\n",
      "Prob(Omnibus):                  0.000   Jarque-Bera (JB):               95.862\n",
      "Skew:                           0.482   Prob(JB):                     1.53e-21\n",
      "Kurtosis:                       3.801   Cond. No.                     1.94e+05\n",
      "==============================================================================\n",
      "\n",
      "Notes:\n",
      "[1] Standard Errors assume that the covariance matrix of the errors is correctly specified.\n",
      "[2] The condition number is large, 1.94e+05. This might indicate that there are\n",
      "strong multicollinearity or other numerical problems.\n"
     ]
    }
   ],
   "source": [
    "reg_multi = smf.ols('margin_low~diagonal+height_left+height_right+margin_up+length', \n",
    "                    data=df).fit()\n",
    "print(reg_multi.summary())"
   ]
  },
  {
   "cell_type": "markdown",
   "id": "13c32880",
   "metadata": {},
   "source": [
    "**Observations :**\n",
    "\n",
    "Nous voyons ici que tous les paramètres sont significatifs et ont une valeur p inférieure à 5%, le niveau de test attendu.\n",
    "\n",
    "R2 est le coefficient de détermination qui nous indique le pourcentage de variation de la variable indépendante qui peut être expliqué par la variable indépendante. Ici, 47,7 % de la variation de Y peut être expliquée par X. La valeur maximale possible de R2 est 1, ce qui signifie que plus la valeur de R2 est grande, meilleure est la régression.\n",
    "\n",
    "#https://www.geeksforgeeks.org/interpreting-the-results-of-linear-regression-using-ols-summary/"
   ]
  },
  {
   "cell_type": "markdown",
   "id": "d7f47d41",
   "metadata": {},
   "source": [
    "### Analyse des résultats"
   ]
  },
  {
   "cell_type": "code",
   "execution_count": 15,
   "id": "b89eb5dc",
   "metadata": {
    "ExecuteTime": {
     "end_time": "2022-12-02T06:27:02.943008Z",
     "start_time": "2022-12-02T06:27:02.937852Z"
    }
   },
   "outputs": [],
   "source": [
    "#Cours openclassroom Réalisez des modélisations de données performantes \n",
    "#https://openclassrooms.com/fr/courses/4525326-realisez-des-modelisations-de-donnees-performantes/5754128-decouvrez-le-jeu-de-donnees-des-maladies-cardio-vasculaires"
   ]
  },
  {
   "cell_type": "code",
   "execution_count": 16,
   "id": "2f2a50fc",
   "metadata": {
    "ExecuteTime": {
     "end_time": "2022-12-02T06:27:02.954377Z",
     "start_time": "2022-12-02T06:27:02.946192Z"
    }
   },
   "outputs": [],
   "source": [
    "# Nous effectuerons les tests à un niveau 𝛼 = 5%\n",
    "alpha = 0.05\n",
    "\n",
    "# Nombre d'individus\n",
    "n = df['margin_low'].count()\n",
    "\n",
    "# Nombre de variables\n",
    "p = 6\n",
    "\n",
    "analysis = pd.DataFrame({'obs':np.arange(1, n+1)})"
   ]
  },
  {
   "cell_type": "markdown",
   "id": "b7af63d2",
   "metadata": {},
   "source": [
    "**Calcul des leviers (atypicité des variables explicatives) :**\n",
    "\n",
    "Nous considérons que le seuil des leviers est de : 2*p/n"
   ]
  },
  {
   "cell_type": "code",
   "execution_count": 17,
   "id": "34f253a4",
   "metadata": {
    "ExecuteTime": {
     "end_time": "2022-12-02T06:27:02.971440Z",
     "start_time": "2022-12-02T06:27:02.957280Z"
    }
   },
   "outputs": [],
   "source": [
    "analysis['levers'] = reg_multi.get_influence().hat_matrix_diag\n",
    "threshold_levers = 2*p/n"
   ]
  },
  {
   "cell_type": "code",
   "execution_count": 18,
   "id": "aa7fd2ad",
   "metadata": {
    "ExecuteTime": {
     "end_time": "2022-12-02T06:27:07.071217Z",
     "start_time": "2022-12-02T06:27:02.974790Z"
    }
   },
   "outputs": [
    {
     "data": {
      "image/png": "[encoded data removed]",
      "text/plain": [
       "<Figure size 720x432 with 1 Axes>"
      ]
     },
     "metadata": {},
     "output_type": "display_data"
    }
   ],
   "source": [
    "plt.figure(figsize=(10,6))\n",
    "plt.bar(analysis['obs'], analysis['levers'])\n",
    "plt.xticks(np.arange(0, 1500, step=150))\n",
    "plt.xlabel('Observations')\n",
    "plt.ylabel('Léviers')\n",
    "plt.plot([0, 1500], [threshold_levers, threshold_levers], color='r')\n",
    "plt.show()"
   ]
  },
  {
   "cell_type": "code",
   "execution_count": 19,
   "id": "4b914ba2",
   "metadata": {
    "ExecuteTime": {
     "end_time": "2022-12-02T06:27:07.086836Z",
     "start_time": "2022-12-02T06:27:07.075172Z"
    }
   },
   "outputs": [
    {
     "name": "stdout",
     "output_type": "stream",
     "text": [
      "    obs    levers\n",
      "0     1  0.016606\n",
      "2     3  0.008298\n",
      "34   35  0.009156\n",
      "52   53  0.013635\n",
      "56   57  0.009087 \n",
      "\n",
      "75 observations sont supérieurs au seuil\n"
     ]
    }
   ],
   "source": [
    "# Sélection des points pour lesquels le levier est supérieur au seuil.\n",
    "lev_obs = analysis.loc[analysis['levers'] > threshold_levers, :]\n",
    "print(lev_obs.head(),\"\\n\")\n",
    "print(len(lev_obs),\"observations sont supérieurs au seuil\")"
   ]
  },
  {
   "cell_type": "markdown",
   "id": "cf0b63ea",
   "metadata": {},
   "source": [
    "**Calcul des résidus studentisés (atypicité de la variable à expliquer) :**"
   ]
  },
  {
   "cell_type": "raw",
   "id": "0c9fa4f5",
   "metadata": {},
   "source": [
    "Ici, nous avons n - p - 1 > 30,\n",
    "donc le seuil pour les résidus studentisés suit approximativement une loi de Student T(n - p - 1)"
   ]
  },
  {
   "cell_type": "code",
   "execution_count": 20,
   "id": "6bf8324a",
   "metadata": {
    "ExecuteTime": {
     "end_time": "2022-12-02T06:27:07.104487Z",
     "start_time": "2022-12-02T06:27:07.094768Z"
    }
   },
   "outputs": [],
   "source": [
    "analysis['rstudent'] = reg_multi.get_influence().resid_studentized_internal\n",
    "rstudent_threshold = t.ppf(1-alpha/2,n-p-1)"
   ]
  },
  {
   "cell_type": "code",
   "execution_count": 21,
   "id": "93dd0fa9",
   "metadata": {
    "ExecuteTime": {
     "end_time": "2022-12-02T06:27:11.260163Z",
     "start_time": "2022-12-02T06:27:07.109628Z"
    }
   },
   "outputs": [
    {
     "data": {
      "image/png": "[encoded data removed]",
      "text/plain": [
       "<Figure size 720x432 with 1 Axes>"
      ]
     },
     "metadata": {},
     "output_type": "display_data"
    }
   ],
   "source": [
    "plt.figure(figsize=(10,6))\n",
    "plt.bar(analysis[\"obs\"], analysis[\"rstudent\"])\n",
    "plt.xticks(np.arange(0, 1500, step=200))\n",
    "plt.xlabel(\"Observations\")\n",
    "plt.ylabel(\"Résidus studentisés\")\n",
    "plt.plot([0, 1500], [rstudent_threshold, rstudent_threshold], color='r')\n",
    "plt.plot([0, 1500], [-rstudent_threshold, -rstudent_threshold], color='r')\n",
    "plt.show()"
   ]
  },
  {
   "cell_type": "code",
   "execution_count": 22,
   "id": "727ca530",
   "metadata": {
    "ExecuteTime": {
     "end_time": "2022-12-02T06:27:11.280366Z",
     "start_time": "2022-12-02T06:27:11.265481Z"
    }
   },
   "outputs": [
    {
     "name": "stdout",
     "output_type": "stream",
     "text": [
      "     obs    levers  rstudent\n",
      "285  286  0.007106  2.198945\n",
      "564  565  0.004796  1.979045\n",
      "649  650  0.011824  2.623086\n",
      "993  994  0.013583  1.996766\n",
      "998  999  0.005801  2.892652 \n",
      "\n",
      "53 observations sont supérieures aux seuils\n"
     ]
    }
   ],
   "source": [
    "rstu_obs = analysis.loc[(analysis['rstudent'] > rstudent_threshold) & (analysis['rstudent'] > -rstudent_threshold)]\n",
    "print(rstu_obs.head(),\"\\n\")\n",
    "print(len(rstu_obs),\"observations sont supérieures aux seuils\")"
   ]
  },
  {
   "cell_type": "markdown",
   "id": "17631684",
   "metadata": {},
   "source": [
    "**Calcul de la distance de Cook**"
   ]
  },
  {
   "cell_type": "code",
   "execution_count": 23,
   "id": "c4b67037",
   "metadata": {
    "ExecuteTime": {
     "end_time": "2022-12-02T06:27:16.031623Z",
     "start_time": "2022-12-02T06:27:11.285409Z"
    }
   },
   "outputs": [],
   "source": [
    "influence = reg_multi.get_influence().summary_frame()"
   ]
  },
  {
   "cell_type": "raw",
   "id": "c8feadeb",
   "metadata": {},
   "source": [
    "Le seuil de la distance de Cook est n - p."
   ]
  },
  {
   "cell_type": "code",
   "execution_count": 24,
   "id": "460446f1",
   "metadata": {
    "ExecuteTime": {
     "end_time": "2022-12-02T06:27:16.050191Z",
     "start_time": "2022-12-02T06:27:16.039231Z"
    }
   },
   "outputs": [],
   "source": [
    "analysis['dcooks'] = influence['cooks_d']\n",
    "dcook_threshold = 3/(n-p)"
   ]
  },
  {
   "cell_type": "code",
   "execution_count": 25,
   "id": "5ebaa939",
   "metadata": {
    "ExecuteTime": {
     "end_time": "2022-12-02T06:27:20.627337Z",
     "start_time": "2022-12-02T06:27:16.058880Z"
    }
   },
   "outputs": [
    {
     "data": {
      "image/png": "[encoded data removed]",
      "text/plain": [
       "<Figure size 720x432 with 1 Axes>"
      ]
     },
     "metadata": {},
     "output_type": "display_data"
    }
   ],
   "source": [
    "# Détection des observations influentes\n",
    "plt.figure(figsize=(10,6))\n",
    "plt.bar(analysis['obs'], analysis['dcooks'])\n",
    "plt.xticks(np.arange(0, 1500, step=200))\n",
    "plt.xlabel('Observations')\n",
    "plt.ylabel('Léviers')\n",
    "plt.plot([0, 1500], [dcook_threshold, dcook_threshold], color='r')\n",
    "plt.show()"
   ]
  },
  {
   "cell_type": "code",
   "execution_count": 26,
   "id": "f361c605",
   "metadata": {
    "ExecuteTime": {
     "end_time": "2022-12-02T06:27:20.647533Z",
     "start_time": "2022-12-02T06:27:20.633451Z"
    }
   },
   "outputs": [
    {
     "name": "stdout",
     "output_type": "stream",
     "text": [
      "     obs    levers  rstudent    dcooks\n",
      "52    53  0.013635 -1.372229  0.004338\n",
      "80    81  0.003806  0.022997  0.003151\n",
      "125  126  0.001589  0.172284  0.006308\n",
      "176  177  0.002004 -0.622183  0.002176\n",
      "182  183  0.002507  0.174186  0.002560 \n",
      "\n",
      "118 observations sont supérieurs aux seuils\n"
     ]
    }
   ],
   "source": [
    "dcooks_obs = analysis.loc[(analysis['dcooks'] > dcook_threshold)]\n",
    "print(dcooks_obs.head(),\"\\n\")\n",
    "print(len(dcooks_obs),\"observations sont supérieurs aux seuils\")"
   ]
  },
  {
   "cell_type": "markdown",
   "id": "c78571e4",
   "metadata": {},
   "source": [
    "**Test de colinéarité des variables**"
   ]
  },
  {
   "cell_type": "code",
   "execution_count": 27,
   "id": "296ddf73",
   "metadata": {
    "ExecuteTime": {
     "end_time": "2022-12-02T06:27:20.669157Z",
     "start_time": "2022-12-02T06:27:20.651809Z"
    }
   },
   "outputs": [
    {
     "data": {
      "text/plain": [
       "[1.0136128990686333,\n",
       " 1.138260573608249,\n",
       " 1.230114515556036,\n",
       " 1.4044037781843624,\n",
       " 1.576950145366581]"
      ]
     },
     "execution_count": 27,
     "metadata": {},
     "output_type": "execute_result"
    }
   ],
   "source": [
    "variables = reg_multi.model.exog\n",
    "[variance_inflation_factor(variables, i) \n",
    " for i in np.arange(1,variables.shape[1])]"
   ]
  },
  {
   "cell_type": "code",
   "execution_count": 28,
   "id": "91f17534",
   "metadata": {
    "ExecuteTime": {
     "end_time": "2022-12-02T06:27:20.724520Z",
     "start_time": "2022-12-02T06:27:20.685177Z"
    }
   },
   "outputs": [
    {
     "name": "stdout",
     "output_type": "stream",
     "text": [
      "VIF > 10 : Pas de problème de colinéarité\n",
      "VIF > 10 : Pas de problème de colinéarité\n",
      "VIF > 10 : Pas de problème de colinéarité\n",
      "VIF > 10 : Pas de problème de colinéarité\n",
      "VIF > 10 : Pas de problème de colinéarité\n",
      "VIF > 10 : Pas de problème de colinéarité\n"
     ]
    }
   ],
   "source": [
    "# Instanciation:\n",
    "reg_li_col = smf.ols(\"margin_low ~ diagonal + height_left + height_right + margin_up + length + is_genuine\", \n",
    "                   data = initial_data)\n",
    "# Calculs:\n",
    "res_li_col = reg_li_col.fit()\n",
    "\n",
    "variables = res_li_col.model.exog\n",
    "\n",
    "\n",
    "for VIF in [variance_inflation_factor(variables, i) for i in np.arange(1,variables.shape[1])]:\n",
    "    if VIF <= 10:\n",
    "        print(\"VIF > 10 : Pas de problème de colinéarité\")"
   ]
  },
  {
   "cell_type": "markdown",
   "id": "d0f51346",
   "metadata": {},
   "source": [
    "**Observations :**\n",
    "Tous les coefficients sont inférieurs à 10, il n'y a donc pas de problème de colinéarité."
   ]
  },
  {
   "cell_type": "markdown",
   "id": "1dc2f559",
   "metadata": {},
   "source": [
    "**Test d'homoscédasticité :**"
   ]
  },
  {
   "cell_type": "code",
   "execution_count": 29,
   "id": "28861001",
   "metadata": {
    "ExecuteTime": {
     "end_time": "2022-12-02T06:27:20.740200Z",
     "start_time": "2022-12-02T06:27:20.727469Z"
    }
   },
   "outputs": [
    {
     "name": "stdout",
     "output_type": "stream",
     "text": [
      "p value test Breusch Pagan: 3.407436944157813e-32 \n",
      "\n",
      "pvalue < 5% ,  H0 est rejeté : les variances sont hétéroscédastiques (non constantes).\n"
     ]
    }
   ],
   "source": [
    "# Tester la constance de la variance des résidus\n",
    "_, pval, __, f_pval = statsmodels.stats.diagnostic.het_breuschpagan(reg_multi.resid, variables)\n",
    "print('p value test Breusch Pagan:', pval,\"\\n\")\n",
    "\n",
    "if pval < 5/100:\n",
    "    print(\"pvalue < 5% ,  H0 est rejeté : les variances sont hétéroscédastiques (non constantes).\")\n",
    "else : print(\"pvalue > 5%, H0 ne peut être rejeté : les variances sont constantes (ou homoscédastiques)\")"
   ]
  },
  {
   "cell_type": "markdown",
   "id": "10276ae5",
   "metadata": {},
   "source": [
    "**Test de normalité résiduelle :**"
   ]
  },
  {
   "cell_type": "code",
   "execution_count": 30,
   "id": "fa91b530",
   "metadata": {
    "ExecuteTime": {
     "end_time": "2022-12-02T06:27:20.751441Z",
     "start_time": "2022-12-02T06:27:20.743354Z"
    },
    "scrolled": true
   },
   "outputs": [
    {
     "name": "stdout",
     "output_type": "stream",
     "text": [
      "==================================================================================================== \n",
      "\n",
      "Shapiro-Wilk test \n",
      "\n",
      "pval1 < 0.05 ==> l'hypothèse nulle est rejetée (les résidus ne suivent pas une loi normale).)\n",
      "\n",
      "==================================================================================================== \n",
      "\n"
     ]
    }
   ],
   "source": [
    "shapiro_test(reg_multi.resid)"
   ]
  },
  {
   "cell_type": "markdown",
   "id": "eef70c16",
   "metadata": {},
   "source": [
    "**Avertissement :**\n",
    "* Les hypothèses du modèle linéaire ne sont pas respectées : les résidus ne sont ni gaussiens ni homoscédastiques.\n",
    "* Mais étant donné la taille de notre échantillon (1500 individus), les résultats du modèle restent viables."
   ]
  },
  {
   "cell_type": "markdown",
   "id": "d36a0f59",
   "metadata": {},
   "source": [
    "### Prédiction et imputation des valeurs manquantes"
   ]
  },
  {
   "cell_type": "code",
   "execution_count": 31,
   "id": "bc4b5c9d",
   "metadata": {
    "ExecuteTime": {
     "end_time": "2022-12-02T06:27:20.773337Z",
     "start_time": "2022-12-02T06:27:20.755131Z"
    }
   },
   "outputs": [],
   "source": [
    "# Prédiction des valeurs manquantes\n",
    "df_na = df[df[\"margin_low\"].isnull()]\n",
    "predict_na = reg_multi.predict(df_na)"
   ]
  },
  {
   "cell_type": "code",
   "execution_count": 32,
   "id": "2b2741b3",
   "metadata": {
    "ExecuteTime": {
     "end_time": "2022-12-02T06:27:20.790003Z",
     "start_time": "2022-12-02T06:27:20.775787Z"
    }
   },
   "outputs": [],
   "source": [
    "# Imputations des valeurs manquantes\n",
    "initial_data[\"margin_low\"][initial_data[\"margin_low\"].isnull()] = predict_na\n",
    "df[\"margin_low\"][df[\"margin_low\"].isnull()] = predict_na"
   ]
  },
  {
   "cell_type": "code",
   "execution_count": 33,
   "id": "8e805e00",
   "metadata": {
    "ExecuteTime": {
     "end_time": "2022-12-02T06:27:20.808559Z",
     "start_time": "2022-12-02T06:27:20.793057Z"
    }
   },
   "outputs": [
    {
     "name": "stdout",
     "output_type": "stream",
     "text": [
      "<class 'pandas.core.frame.DataFrame'>\n",
      "RangeIndex: 1500 entries, 0 to 1499\n",
      "Data columns (total 7 columns):\n",
      " #   Column        Non-Null Count  Dtype  \n",
      "---  ------        --------------  -----  \n",
      " 0   is_genuine    1500 non-null   bool   \n",
      " 1   diagonal      1500 non-null   float64\n",
      " 2   height_left   1500 non-null   float64\n",
      " 3   height_right  1500 non-null   float64\n",
      " 4   margin_low    1500 non-null   float64\n",
      " 5   margin_up     1500 non-null   float64\n",
      " 6   length        1500 non-null   float64\n",
      "dtypes: bool(1), float64(6)\n",
      "memory usage: 71.9 KB\n"
     ]
    }
   ],
   "source": [
    "# Vérification après imputation\n",
    "initial_data.info()"
   ]
  },
  {
   "cell_type": "markdown",
   "id": "ca7a6398",
   "metadata": {},
   "source": [
    "## Analyse en composantes principales (ACP) sur les caractéristiques"
   ]
  },
  {
   "cell_type": "markdown",
   "id": "442e1e6e",
   "metadata": {},
   "source": [
    "### Normalisation des données"
   ]
  },
  {
   "cell_type": "code",
   "execution_count": 34,
   "id": "54e0fd5b",
   "metadata": {
    "ExecuteTime": {
     "end_time": "2022-12-02T06:27:20.858857Z",
     "start_time": "2022-12-02T06:27:20.813437Z"
    }
   },
   "outputs": [
    {
     "data": {
      "text/html": [
       "<div>\n",
       "<style scoped>\n",
       "    .dataframe tbody tr th:only-of-type {\n",
       "        vertical-align: middle;\n",
       "    }\n",
       "\n",
       "    .dataframe tbody tr th {\n",
       "        vertical-align: top;\n",
       "    }\n",
       "\n",
       "    .dataframe thead th {\n",
       "        text-align: right;\n",
       "    }\n",
       "</style>\n",
       "<table border=\"1\" class=\"dataframe\">\n",
       "  <thead>\n",
       "    <tr style=\"text-align: right;\">\n",
       "      <th></th>\n",
       "      <th>diagonal</th>\n",
       "      <th>height_left</th>\n",
       "      <th>height_right</th>\n",
       "      <th>margin_low</th>\n",
       "      <th>margin_up</th>\n",
       "      <th>length</th>\n",
       "    </tr>\n",
       "  </thead>\n",
       "  <tbody>\n",
       "    <tr>\n",
       "      <th>count</th>\n",
       "      <td>1500.00</td>\n",
       "      <td>1500.00</td>\n",
       "      <td>1500.00</td>\n",
       "      <td>1500.00</td>\n",
       "      <td>1500.00</td>\n",
       "      <td>1500.00</td>\n",
       "    </tr>\n",
       "    <tr>\n",
       "      <th>mean</th>\n",
       "      <td>-0.00</td>\n",
       "      <td>0.00</td>\n",
       "      <td>-0.00</td>\n",
       "      <td>0.00</td>\n",
       "      <td>-0.00</td>\n",
       "      <td>0.00</td>\n",
       "    </tr>\n",
       "    <tr>\n",
       "      <th>std</th>\n",
       "      <td>1.00</td>\n",
       "      <td>1.00</td>\n",
       "      <td>1.00</td>\n",
       "      <td>1.00</td>\n",
       "      <td>1.00</td>\n",
       "      <td>1.00</td>\n",
       "    </tr>\n",
       "    <tr>\n",
       "      <th>min</th>\n",
       "      <td>-3.01</td>\n",
       "      <td>-2.97</td>\n",
       "      <td>-3.38</td>\n",
       "      <td>-2.28</td>\n",
       "      <td>-3.80</td>\n",
       "      <td>-3.65</td>\n",
       "    </tr>\n",
       "    <tr>\n",
       "      <th>25%</th>\n",
       "      <td>-0.68</td>\n",
       "      <td>-0.70</td>\n",
       "      <td>-0.65</td>\n",
       "      <td>-0.70</td>\n",
       "      <td>-0.70</td>\n",
       "      <td>-0.74</td>\n",
       "    </tr>\n",
       "    <tr>\n",
       "      <th>50%</th>\n",
       "      <td>0.01</td>\n",
       "      <td>0.03</td>\n",
       "      <td>-0.00</td>\n",
       "      <td>-0.26</td>\n",
       "      <td>-0.05</td>\n",
       "      <td>0.32</td>\n",
       "    </tr>\n",
       "    <tr>\n",
       "      <th>75%</th>\n",
       "      <td>0.69</td>\n",
       "      <td>0.67</td>\n",
       "      <td>0.71</td>\n",
       "      <td>0.59</td>\n",
       "      <td>0.68</td>\n",
       "      <td>0.76</td>\n",
       "    </tr>\n",
       "    <tr>\n",
       "      <th>max</th>\n",
       "      <td>3.45</td>\n",
       "      <td>2.84</td>\n",
       "      <td>3.16</td>\n",
       "      <td>3.66</td>\n",
       "      <td>3.27</td>\n",
       "      <td>2.02</td>\n",
       "    </tr>\n",
       "  </tbody>\n",
       "</table>\n",
       "</div>"
      ],
      "text/plain": [
       "       diagonal  height_left  height_right  margin_low  margin_up   length\n",
       "count   1500.00      1500.00       1500.00     1500.00    1500.00  1500.00\n",
       "mean      -0.00         0.00         -0.00        0.00      -0.00     0.00\n",
       "std        1.00         1.00          1.00        1.00       1.00     1.00\n",
       "min       -3.01        -2.97         -3.38       -2.28      -3.80    -3.65\n",
       "25%       -0.68        -0.70         -0.65       -0.70      -0.70    -0.74\n",
       "50%        0.01         0.03         -0.00       -0.26      -0.05     0.32\n",
       "75%        0.69         0.67          0.71        0.59       0.68     0.76\n",
       "max        3.45         2.84          3.16        3.66       3.27     2.02"
      ]
     },
     "execution_count": 34,
     "metadata": {},
     "output_type": "execute_result"
    }
   ],
   "source": [
    "# Normalisation \n",
    "scaler = StandardScaler()\n",
    "X_scaled = scaler.fit_transform(df)\n",
    "\n",
    "# Vérification\n",
    "pd.DataFrame(X_scaled, columns=df.columns).describe().round(2)"
   ]
  },
  {
   "cell_type": "code",
   "execution_count": 35,
   "id": "04567426",
   "metadata": {
    "ExecuteTime": {
     "end_time": "2022-12-02T06:27:21.391177Z",
     "start_time": "2022-12-02T06:27:20.862044Z"
    }
   },
   "outputs": [
    {
     "data": {
      "image/png": "[encoded data removed]",
      "text/plain": [
       "<Figure size 720x360 with 1 Axes>"
      ]
     },
     "metadata": {},
     "output_type": "display_data"
    }
   ],
   "source": [
    "#  Avant normalisation\n",
    "X1 = pd.DataFrame(df,columns=df.columns)\n",
    "X1.plot(kind='density',sharex=True,figsize=(10,5),layout=(10,1))\n",
    "plt.show()"
   ]
  },
  {
   "cell_type": "code",
   "execution_count": 36,
   "id": "b4cb641c",
   "metadata": {
    "ExecuteTime": {
     "end_time": "2022-12-02T06:27:21.849327Z",
     "start_time": "2022-12-02T06:27:21.398434Z"
    }
   },
   "outputs": [
    {
     "data": {
      "image/png": "[encoded data removed]",
      "text/plain": [
       "<Figure size 864x360 with 1 Axes>"
      ]
     },
     "metadata": {},
     "output_type": "display_data"
    }
   ],
   "source": [
    "# Après normalisation\n",
    "pd.DataFrame(X_scaled,columns=df.columns).plot(kind='density',sharex=True,\n",
    "                                               figsize=(12,5),layout=(10,1))\n",
    "plt.show()"
   ]
  },
  {
   "cell_type": "code",
   "execution_count": 37,
   "id": "27efd06c",
   "metadata": {
    "ExecuteTime": {
     "end_time": "2022-12-02T06:27:21.871781Z",
     "start_time": "2022-12-02T06:27:21.852206Z"
    }
   },
   "outputs": [
    {
     "data": {
      "text/html": [
       "<div>\n",
       "<style scoped>\n",
       "    .dataframe tbody tr th:only-of-type {\n",
       "        vertical-align: middle;\n",
       "    }\n",
       "\n",
       "    .dataframe tbody tr th {\n",
       "        vertical-align: top;\n",
       "    }\n",
       "\n",
       "    .dataframe thead th {\n",
       "        text-align: right;\n",
       "    }\n",
       "</style>\n",
       "<table border=\"1\" class=\"dataframe\">\n",
       "  <thead>\n",
       "    <tr style=\"text-align: right;\">\n",
       "      <th></th>\n",
       "      <th>diagonal</th>\n",
       "      <th>height_left</th>\n",
       "      <th>height_right</th>\n",
       "      <th>margin_low</th>\n",
       "      <th>margin_up</th>\n",
       "      <th>length</th>\n",
       "    </tr>\n",
       "  </thead>\n",
       "  <tbody>\n",
       "    <tr>\n",
       "      <th>0</th>\n",
       "      <td>-0.486540</td>\n",
       "      <td>2.774123</td>\n",
       "      <td>3.163240</td>\n",
       "      <td>0.055390</td>\n",
       "      <td>-1.128325</td>\n",
       "      <td>0.173651</td>\n",
       "    </tr>\n",
       "    <tr>\n",
       "      <th>1</th>\n",
       "      <td>-1.633729</td>\n",
       "      <td>-2.236535</td>\n",
       "      <td>-0.799668</td>\n",
       "      <td>-1.081987</td>\n",
       "      <td>-0.696799</td>\n",
       "      <td>0.471666</td>\n",
       "    </tr>\n",
       "    <tr>\n",
       "      <th>2</th>\n",
       "      <td>2.397823</td>\n",
       "      <td>1.504756</td>\n",
       "      <td>-1.291191</td>\n",
       "      <td>-0.126591</td>\n",
       "      <td>-0.912562</td>\n",
       "      <td>0.551901</td>\n",
       "    </tr>\n",
       "    <tr>\n",
       "      <th>3</th>\n",
       "      <td>-1.961498</td>\n",
       "      <td>-0.399294</td>\n",
       "      <td>0.060498</td>\n",
       "      <td>-1.309463</td>\n",
       "      <td>-0.610494</td>\n",
       "      <td>0.953075</td>\n",
       "    </tr>\n",
       "    <tr>\n",
       "      <th>4</th>\n",
       "      <td>-0.748754</td>\n",
       "      <td>0.836669</td>\n",
       "      <td>-1.414072</td>\n",
       "      <td>-0.672532</td>\n",
       "      <td>1.417677</td>\n",
       "      <td>-0.158750</td>\n",
       "    </tr>\n",
       "  </tbody>\n",
       "</table>\n",
       "</div>"
      ],
      "text/plain": [
       "   diagonal  height_left  height_right  margin_low  margin_up    length\n",
       "0 -0.486540     2.774123      3.163240    0.055390  -1.128325  0.173651\n",
       "1 -1.633729    -2.236535     -0.799668   -1.081987  -0.696799  0.471666\n",
       "2  2.397823     1.504756     -1.291191   -0.126591  -0.912562  0.551901\n",
       "3 -1.961498    -0.399294      0.060498   -1.309463  -0.610494  0.953075\n",
       "4 -0.748754     0.836669     -1.414072   -0.672532   1.417677 -0.158750"
      ]
     },
     "execution_count": 37,
     "metadata": {},
     "output_type": "execute_result"
    }
   ],
   "source": [
    "pd.DataFrame(X_scaled, index=df.index,columns=df.columns).head()"
   ]
  },
  {
   "cell_type": "markdown",
   "id": "94f6f2b7",
   "metadata": {},
   "source": [
    "### Ratio de variance expliquée et Scree plot"
   ]
  },
  {
   "cell_type": "code",
   "execution_count": 38,
   "id": "1650bb3e",
   "metadata": {
    "ExecuteTime": {
     "end_time": "2022-12-02T06:27:21.888323Z",
     "start_time": "2022-12-02T06:27:21.875432Z"
    }
   },
   "outputs": [],
   "source": [
    "# Création du modèle ACP\n",
    "model_pca = PCA()\n",
    "\n",
    "# Ajuster le modèle avec les données\n",
    "X_reduced = model_pca.fit_transform(X_scaled)"
   ]
  },
  {
   "cell_type": "code",
   "execution_count": 39,
   "id": "5f05b5d7",
   "metadata": {
    "ExecuteTime": {
     "end_time": "2022-12-02T06:27:21.900009Z",
     "start_time": "2022-12-02T06:27:21.891227Z"
    }
   },
   "outputs": [
    {
     "data": {
      "text/plain": [
       "array([0.43, 0.17, 0.13, 0.12, 0.1 , 0.05])"
      ]
     },
     "execution_count": 39,
     "metadata": {},
     "output_type": "execute_result"
    }
   ],
   "source": [
    "# Ratio de variance expliquée\n",
    "model_pca.explained_variance_ratio_.round(2)"
   ]
  },
  {
   "cell_type": "code",
   "execution_count": 40,
   "id": "cfa99abc",
   "metadata": {
    "ExecuteTime": {
     "end_time": "2022-12-02T06:27:21.914014Z",
     "start_time": "2022-12-02T06:27:21.902948Z"
    }
   },
   "outputs": [
    {
     "data": {
      "text/plain": [
       "array([0.43, 0.6 , 0.73, 0.85, 0.95, 1.  ])"
      ]
     },
     "execution_count": 40,
     "metadata": {},
     "output_type": "execute_result"
    }
   ],
   "source": [
    "# Ratio de variance expliquée cumulé\n",
    "model_pca.explained_variance_ratio_.cumsum().round(2)"
   ]
  },
  {
   "cell_type": "code",
   "execution_count": 41,
   "id": "107cfce9",
   "metadata": {
    "ExecuteTime": {
     "end_time": "2022-12-02T06:27:22.152594Z",
     "start_time": "2022-12-02T06:27:21.918566Z"
    }
   },
   "outputs": [
    {
     "data": {
      "image/png": "[encoded data removed]",
      "text/plain": [
       "<Figure size 576x396 with 1 Axes>"
      ]
     },
     "metadata": {},
     "output_type": "display_data"
    }
   ],
   "source": [
    "# Scree plot\n",
    "display_scree_plot(model_pca)"
   ]
  },
  {
   "cell_type": "markdown",
   "id": "1f2bea58",
   "metadata": {},
   "source": [
    "**Observations :** \n",
    "- Les trois premiers composants couvre 77% des variables"
   ]
  },
  {
   "cell_type": "code",
   "execution_count": 42,
   "id": "774817bf",
   "metadata": {
    "ExecuteTime": {
     "end_time": "2022-12-02T06:27:22.165162Z",
     "start_time": "2022-12-02T06:27:22.158283Z"
    }
   },
   "outputs": [],
   "source": [
    "# Nombre de composants à étudier\n",
    "num_components = 2\n",
    "pcs = model_pca.components_ \n",
    "pc1 = model_pca.components_[0]\n",
    "pc2 = model_pca.components_[1]"
   ]
  },
  {
   "cell_type": "code",
   "execution_count": 43,
   "id": "4c8d94b7",
   "metadata": {
    "ExecuteTime": {
     "end_time": "2022-12-02T06:27:22.181623Z",
     "start_time": "2022-12-02T06:27:22.170643Z"
    }
   },
   "outputs": [
    {
     "data": {
      "text/plain": [
       "Index(['diagonal', 'height_left', 'height_right', 'margin_low', 'margin_up',\n",
       "       'length'],\n",
       "      dtype='object')"
      ]
     },
     "execution_count": 43,
     "metadata": {},
     "output_type": "execute_result"
    }
   ],
   "source": [
    "df.columns"
   ]
  },
  {
   "cell_type": "code",
   "execution_count": 44,
   "id": "926ce52c",
   "metadata": {
    "ExecuteTime": {
     "end_time": "2022-12-02T06:27:22.195340Z",
     "start_time": "2022-12-02T06:27:22.187452Z"
    }
   },
   "outputs": [
    {
     "data": {
      "text/plain": [
       "array([-0.08469767,  0.33063448,  0.39355544,  0.50769282,  0.4394146 ,\n",
       "       -0.52705225])"
      ]
     },
     "execution_count": 44,
     "metadata": {},
     "output_type": "execute_result"
    }
   ],
   "source": [
    "pc1"
   ]
  },
  {
   "cell_type": "code",
   "execution_count": 45,
   "id": "2dd72dff",
   "metadata": {
    "ExecuteTime": {
     "end_time": "2022-12-02T06:27:22.208888Z",
     "start_time": "2022-12-02T06:27:22.200826Z"
    }
   },
   "outputs": [
    {
     "data": {
      "text/plain": [
       "array([ 0.94130387,  0.30752844,  0.10833184, -0.07243963, -0.00495445,\n",
       "        0.04863598])"
      ]
     },
     "execution_count": 45,
     "metadata": {},
     "output_type": "execute_result"
    }
   ],
   "source": [
    "pc2"
   ]
  },
  {
   "cell_type": "markdown",
   "id": "544c3aa7",
   "metadata": {},
   "source": [
    "### Cercles de corrélation et projections de points"
   ]
  },
  {
   "cell_type": "code",
   "execution_count": 46,
   "id": "f01a5312",
   "metadata": {
    "ExecuteTime": {
     "end_time": "2022-12-02T06:27:22.705699Z",
     "start_time": "2022-12-02T06:27:22.214330Z"
    },
    "scrolled": true
   },
   "outputs": [
    {
     "data": {
      "image/png": "[encoded data removed]",
      "text/plain": [
       "<Figure size 792x792 with 2 Axes>"
      ]
     },
     "metadata": {},
     "output_type": "display_data"
    }
   ],
   "source": [
    "X_projected = model_pca.transform(X_scaled)\n",
    "\n",
    "plt.figure(figsize=(11,11))\n",
    "plt.subplot(2,2,1)\n",
    "display_circles(pcs, num_components, model_pca, [(0,1)], \n",
    "                labels = np.array(df.columns))\n",
    "plt.subplot(2,2,2)\n",
    "display_factorial_planes(X_projected, num_components, model_pca, [(0,1)])\n",
    "plt.show()"
   ]
  },
  {
   "cell_type": "raw",
   "id": "66397813",
   "metadata": {},
   "source": [
    "Interprétation des axes :\n",
    "pc1 → principalement représenté par les variables \"heigh\" (gauche et droite) et \"margin\" (haut et bas). vrai\n",
    "pc2 → principalement représenté par les variables \"diagonal\" et \"heigh\" (gauche et droite). faux"
   ]
  },
  {
   "cell_type": "code",
   "execution_count": 47,
   "id": "60ce0335",
   "metadata": {
    "ExecuteTime": {
     "end_time": "2022-12-02T06:27:22.718969Z",
     "start_time": "2022-12-02T06:27:22.709525Z"
    }
   },
   "outputs": [
    {
     "data": {
      "text/plain": [
       "array([[ 1.64413533,  0.74784336,  2.40251671,  3.18085156,  0.30398483,\n",
       "        -0.01224666],\n",
       "       [-2.01990995, -2.20749245, -1.00186403,  0.07293664,  0.03333482,\n",
       "        -0.47550345],\n",
       "       [-0.969864  ,  2.62049228,  1.19536388, -0.92362716, -0.83774922,\n",
       "         0.2073435 ],\n",
       "       ...,\n",
       "       [ 1.88968443, -0.60028209, -0.54592206, -0.09804235, -0.29697655,\n",
       "         0.50356217],\n",
       "       [ 1.78978258,  0.51122987,  0.02810393, -0.47401805,  0.35665494,\n",
       "         0.52471865],\n",
       "       [ 1.04215891, -1.47130226,  0.48443988, -0.68518566,  0.48451961,\n",
       "        -0.23511175]])"
      ]
     },
     "execution_count": 47,
     "metadata": {},
     "output_type": "execute_result"
    }
   ],
   "source": [
    "X_projected"
   ]
  },
  {
   "cell_type": "markdown",
   "id": "3ca37c00",
   "metadata": {},
   "source": [
    "## Methode T-SNE"
   ]
  },
  {
   "cell_type": "markdown",
   "id": "6621a210",
   "metadata": {},
   "source": [
    "### Visualisation des données avec la méthode t-sne"
   ]
  },
  {
   "cell_type": "markdown",
   "id": "79cbf811",
   "metadata": {},
   "source": [
    "*La méthode t-SNE (t-distributed stochastic neighbor embedding) fait partie de la librairie scikit-learn.*"
   ]
  },
  {
   "cell_type": "markdown",
   "id": "eeb9ca88",
   "metadata": {},
   "source": [
    "**Projection en 2D**"
   ]
  },
  {
   "cell_type": "code",
   "execution_count": 48,
   "id": "fb720349",
   "metadata": {
    "ExecuteTime": {
     "end_time": "2022-12-02T06:27:38.018190Z",
     "start_time": "2022-12-02T06:27:22.723033Z"
    }
   },
   "outputs": [],
   "source": [
    "tsne = TSNE(n_components=2, init='pca', random_state=0, n_jobs=-1)\n",
    "X_tsne = tsne.fit_transform(X_scaled)"
   ]
  },
  {
   "cell_type": "code",
   "execution_count": 49,
   "id": "a9225e81",
   "metadata": {
    "ExecuteTime": {
     "end_time": "2022-12-02T06:27:38.060263Z",
     "start_time": "2022-12-02T06:27:38.020972Z"
    }
   },
   "outputs": [
    {
     "data": {
      "text/html": [
       "<div>\n",
       "<style scoped>\n",
       "    .dataframe tbody tr th:only-of-type {\n",
       "        vertical-align: middle;\n",
       "    }\n",
       "\n",
       "    .dataframe tbody tr th {\n",
       "        vertical-align: top;\n",
       "    }\n",
       "\n",
       "    .dataframe thead th {\n",
       "        text-align: right;\n",
       "    }\n",
       "</style>\n",
       "<table border=\"1\" class=\"dataframe\">\n",
       "  <thead>\n",
       "    <tr style=\"text-align: right;\">\n",
       "      <th></th>\n",
       "      <th>DIM1</th>\n",
       "      <th>DIM2</th>\n",
       "    </tr>\n",
       "  </thead>\n",
       "  <tbody>\n",
       "    <tr>\n",
       "      <th>0</th>\n",
       "      <td>3.139604</td>\n",
       "      <td>6.215448</td>\n",
       "    </tr>\n",
       "    <tr>\n",
       "      <th>1</th>\n",
       "      <td>-45.401073</td>\n",
       "      <td>-23.176100</td>\n",
       "    </tr>\n",
       "    <tr>\n",
       "      <th>2</th>\n",
       "      <td>2.519248</td>\n",
       "      <td>30.283636</td>\n",
       "    </tr>\n",
       "    <tr>\n",
       "      <th>3</th>\n",
       "      <td>-18.056858</td>\n",
       "      <td>-26.962479</td>\n",
       "    </tr>\n",
       "    <tr>\n",
       "      <th>4</th>\n",
       "      <td>6.367445</td>\n",
       "      <td>-9.231504</td>\n",
       "    </tr>\n",
       "  </tbody>\n",
       "</table>\n",
       "</div>"
      ],
      "text/plain": [
       "        DIM1       DIM2\n",
       "0   3.139604   6.215448\n",
       "1 -45.401073 -23.176100\n",
       "2   2.519248  30.283636\n",
       "3 -18.056858 -26.962479\n",
       "4   6.367445  -9.231504"
      ]
     },
     "execution_count": 49,
     "metadata": {},
     "output_type": "execute_result"
    }
   ],
   "source": [
    "X=initial_data.select_dtypes('number')\n",
    "columns = ['DIM' + str(c) for c in range(1, X_tsne.shape[1]+1, 1)]\n",
    "X_tsne = pd.DataFrame(X_tsne, index=X.index, columns=columns)\n",
    "X_tsne.head()"
   ]
  },
  {
   "cell_type": "code",
   "execution_count": 50,
   "id": "8bc7c11e",
   "metadata": {
    "ExecuteTime": {
     "end_time": "2022-12-02T06:27:38.396710Z",
     "start_time": "2022-12-02T06:27:38.073413Z"
    },
    "scrolled": true
   },
   "outputs": [
    {
     "name": "stderr",
     "output_type": "stream",
     "text": [
      "*c* argument looks like a single numeric RGB or RGBA sequence, which should be avoided as value-mapping will have precedence in case its length matches with *x* & *y*.  Please use the *color* keyword-argument or provide a 2D array with a single row if you intend to specify the same RGB or RGBA value for all points.\n"
     ]
    },
    {
     "data": {
      "text/plain": [
       "<AxesSubplot:xlabel='DIM1', ylabel='DIM2'>"
      ]
     },
     "execution_count": 50,
     "metadata": {},
     "output_type": "execute_result"
    },
    {
     "data": {
      "image/png": "[encoded data removed]",
      "text/plain": [
       "<Figure size 360x360 with 1 Axes>"
      ]
     },
     "metadata": {},
     "output_type": "display_data"
    }
   ],
   "source": [
    "X_tsne.plot(x='DIM1', y='DIM2', kind='scatter', figsize=(5, 5))"
   ]
  },
  {
   "cell_type": "code",
   "execution_count": 51,
   "id": "60bdb329",
   "metadata": {
    "ExecuteTime": {
     "end_time": "2022-12-02T06:27:38.409604Z",
     "start_time": "2022-12-02T06:27:38.400423Z"
    }
   },
   "outputs": [
    {
     "data": {
      "text/plain": [
       "1.3768469095230103"
      ]
     },
     "execution_count": 51,
     "metadata": {},
     "output_type": "execute_result"
    }
   ],
   "source": [
    "# La divergence de Kullback-Leibler après optimisation\n",
    "tsne.kl_divergence_"
   ]
  },
  {
   "cell_type": "markdown",
   "id": "4c2c6a5a",
   "metadata": {},
   "source": [
    "# Analyse univariée sur la cible\n",
    "---"
   ]
  },
  {
   "cell_type": "code",
   "execution_count": 52,
   "id": "cc11f10e",
   "metadata": {
    "ExecuteTime": {
     "end_time": "2022-12-02T06:27:38.419510Z",
     "start_time": "2022-12-02T06:27:38.412773Z"
    }
   },
   "outputs": [],
   "source": [
    "target = initial_data[['is_genuine']]"
   ]
  },
  {
   "cell_type": "code",
   "execution_count": 53,
   "id": "810d508c",
   "metadata": {
    "ExecuteTime": {
     "end_time": "2022-12-02T06:27:38.719249Z",
     "start_time": "2022-12-02T06:27:38.424819Z"
    }
   },
   "outputs": [
    {
     "data": {
      "image/png": "[encoded data removed]",
      "text/plain": [
       "<Figure size 1080x360 with 2 Axes>"
      ]
     },
     "metadata": {},
     "output_type": "display_data"
    }
   ],
   "source": [
    "palette =[\"steelblue\",\"lightblue\",]\n",
    "plt.figure(figsize=(15,5))\n",
    "plt.subplot(121)\n",
    "sns.countplot(x=\"is_genuine\", data=initial_data, palette = palette)\n",
    "plt.subplot(122)\n",
    "initial_data[\"is_genuine\"].value_counts().plot(kind=\"pie\", ylabel='', \n",
    "                                       autopct='%1.0f%%', radius=1.4, \n",
    "                                       explode = (0, 0.02), \n",
    "                                       colors=[\"lightblue\",\"steelblue\"], \n",
    "                                       pctdistance=1.1, labeldistance=0.4, \n",
    "                                       rotatelabels=True)\n",
    "circle = plt.Circle( (0,0), 0.9, color='white')\n",
    "p = plt.gcf()\n",
    "p.gca().add_artist(circle)\n",
    "\n",
    "plt.show()"
   ]
  },
  {
   "cell_type": "code",
   "execution_count": 54,
   "id": "0e0f91b0",
   "metadata": {
    "ExecuteTime": {
     "end_time": "2022-12-02T06:27:38.743262Z",
     "start_time": "2022-12-02T06:27:38.724017Z"
    }
   },
   "outputs": [
    {
     "data": {
      "text/html": [
       "<div>\n",
       "<style scoped>\n",
       "    .dataframe tbody tr th:only-of-type {\n",
       "        vertical-align: middle;\n",
       "    }\n",
       "\n",
       "    .dataframe tbody tr th {\n",
       "        vertical-align: top;\n",
       "    }\n",
       "\n",
       "    .dataframe thead th {\n",
       "        text-align: right;\n",
       "    }\n",
       "</style>\n",
       "<table border=\"1\" class=\"dataframe\">\n",
       "  <thead>\n",
       "    <tr style=\"text-align: right;\">\n",
       "      <th></th>\n",
       "      <th>diagonal</th>\n",
       "      <th>height_left</th>\n",
       "      <th>height_right</th>\n",
       "      <th>margin_low</th>\n",
       "      <th>margin_up</th>\n",
       "      <th>length</th>\n",
       "    </tr>\n",
       "    <tr>\n",
       "      <th>is_genuine</th>\n",
       "      <th></th>\n",
       "      <th></th>\n",
       "      <th></th>\n",
       "      <th></th>\n",
       "      <th></th>\n",
       "      <th></th>\n",
       "    </tr>\n",
       "  </thead>\n",
       "  <tbody>\n",
       "    <tr>\n",
       "      <th>False</th>\n",
       "      <td>171.90</td>\n",
       "      <td>104.19</td>\n",
       "      <td>104.14</td>\n",
       "      <td>5.21</td>\n",
       "      <td>3.35</td>\n",
       "      <td>111.63</td>\n",
       "    </tr>\n",
       "    <tr>\n",
       "      <th>True</th>\n",
       "      <td>171.99</td>\n",
       "      <td>103.95</td>\n",
       "      <td>103.81</td>\n",
       "      <td>4.12</td>\n",
       "      <td>3.05</td>\n",
       "      <td>113.20</td>\n",
       "    </tr>\n",
       "  </tbody>\n",
       "</table>\n",
       "</div>"
      ],
      "text/plain": [
       "            diagonal  height_left  height_right  margin_low  margin_up  length\n",
       "is_genuine                                                                    \n",
       "False         171.90       104.19        104.14        5.21       3.35  111.63\n",
       "True          171.99       103.95        103.81        4.12       3.05  113.20"
      ]
     },
     "execution_count": 54,
     "metadata": {},
     "output_type": "execute_result"
    }
   ],
   "source": [
    "data_arch = initial_data.groupby(by=\"is_genuine\").mean().round(2)\n",
    "data_arch"
   ]
  },
  {
   "cell_type": "markdown",
   "id": "f7fef914",
   "metadata": {},
   "source": [
    "**Modèle-type d'un faux billet de banque :**\n",
    "\n",
    "- diagonal → 171.90 mm\n",
    "\n",
    "- height_left → 104.19 mm\n",
    "\n",
    "- height_right → 104.14 mm\n",
    "\n",
    "- margin_low → 5.21 mm\n",
    "\n",
    "- margin_up → 3.35 mm\n",
    "\n",
    "- length → 111.63 mm"
   ]
  },
  {
   "cell_type": "markdown",
   "id": "3e89dd84",
   "metadata": {},
   "source": [
    "**Modèle-type d'un vrai billet de banque :**\n",
    "\n",
    "- diagonal → 171.99 mm\n",
    "\n",
    "- height_left → 103.95 mm\n",
    "\n",
    "- height_right → 103.81 mm\n",
    "\n",
    "- margin_low → 4.12 mm\n",
    "\n",
    "- margin_up → 3.05 mm\n",
    "\n",
    "- length → 113.20 mm"
   ]
  },
  {
   "cell_type": "markdown",
   "id": "dcb649d4",
   "metadata": {},
   "source": [
    " **Observation :**\n",
    " \n",
    " En général, les vrais billets ont une longueur et une diagonale plus élevées, tandis que les variables height_left, height_right, margin_low et margin_up sont plus élevées pour les faux billets."
   ]
  },
  {
   "cell_type": "markdown",
   "id": "62244a11",
   "metadata": {},
   "source": [
    "# K-means clustering\n",
    "---"
   ]
  },
  {
   "cell_type": "markdown",
   "id": "93ce5ee8",
   "metadata": {},
   "source": [
    "## Trouver le nombre optimal de clusters pour la classification (méthode du coude)"
   ]
  },
  {
   "cell_type": "markdown",
   "id": "7150cea5",
   "metadata": {},
   "source": [
    "**Observation :**\n",
    "Selon la courbe du coude, le nombre optimal de clusters est de 3, mais pour la mission nous privilégierons la sélection de 2 clusters (billets \"vrais\" et \"faux\")."
   ]
  },
  {
   "cell_type": "code",
   "execution_count": 55,
   "id": "83212dba",
   "metadata": {
    "ExecuteTime": {
     "end_time": "2022-12-02T06:27:40.752417Z",
     "start_time": "2022-12-02T06:27:38.748232Z"
    },
    "scrolled": false
   },
   "outputs": [
    {
     "data": {
      "image/png": "[encoded data removed]",
      "text/plain": [
       "<Figure size 576x396 with 2 Axes>"
      ]
     },
     "metadata": {},
     "output_type": "display_data"
    },
    {
     "data": {
      "text/plain": [
       "<AxesSubplot:title={'center':'Distortion Score Elbow for KMeans Clustering'}, xlabel='k', ylabel='distortion score'>"
      ]
     },
     "execution_count": 55,
     "metadata": {},
     "output_type": "execute_result"
    }
   ],
   "source": [
    "model = KMeans(init='k-means++')\n",
    "visualizer = KElbowVisualizer(model, k=(1,10),metric=\"distortion\") \n",
    "visualizer.fit(X_scaled)\n",
    "visualizer.show()"
   ]
  },
  {
   "cell_type": "markdown",
   "id": "e0361b8d",
   "metadata": {},
   "source": [
    "**Avis :**\n",
    "Selon la courbe du coude, le nombre optimal de clusters est de 3, mais pour la mission nous privilégierons la sélection de 2 clusters (billets \"vrais\" et \"faux\")."
   ]
  },
  {
   "cell_type": "markdown",
   "id": "aaf4570b",
   "metadata": {},
   "source": [
    "##### Silhouette score\n",
    "\n",
    "- La valeur du score de la silhouette se situe entre -1 et 1.\n",
    "\n",
    "- Un score proche de 1 indique que le point de données est très similaire aux autres points de données de la grappe,\n",
    "\n",
    "- Un score proche de -1 indique que le point de données n'est pas similaire aux points de données de son cluster."
   ]
  },
  {
   "cell_type": "code",
   "execution_count": 56,
   "id": "20df1ec0",
   "metadata": {
    "ExecuteTime": {
     "end_time": "2022-12-02T06:27:42.919201Z",
     "start_time": "2022-12-02T06:27:40.757511Z"
    }
   },
   "outputs": [
    {
     "name": "stdout",
     "output_type": "stream",
     "text": [
      "For n_clusters = 2, silhouette score is 0.342747406913248)\n",
      "For n_clusters = 3, silhouette score is 0.2104229970267939)\n",
      "For n_clusters = 4, silhouette score is 0.19642537857056414)\n",
      "For n_clusters = 5, silhouette score is 0.15664535385223544)\n",
      "For n_clusters = 6, silhouette score is 0.1483885494837556)\n",
      "For n_clusters = 7, silhouette score is 0.1436859615539382)\n",
      "For n_clusters = 8, silhouette score is 0.14518291512224027)\n",
      "For n_clusters = 9, silhouette score is 0.14195915850876037)\n"
     ]
    }
   ],
   "source": [
    "range_n_clusters = list (range(2,10))\n",
    "for n_clusters in range_n_clusters:\n",
    "    clusterer = KMeans(n_clusters=n_clusters)\n",
    "    preds = clusterer.fit_predict(X_scaled)\n",
    "    score = silhouette_score(X_scaled, preds)\n",
    "    print(\"For n_clusters = {}, silhouette score is {})\".format(n_clusters, score))"
   ]
  },
  {
   "cell_type": "raw",
   "id": "7efc9ef5",
   "metadata": {},
   "source": [
    "Selon le score de silhouhette, le nombre optimal de cluster est 2."
   ]
  },
  {
   "cell_type": "markdown",
   "id": "b46ecd94",
   "metadata": {},
   "source": [
    "## K-means"
   ]
  },
  {
   "cell_type": "code",
   "execution_count": 57,
   "id": "260bdd17",
   "metadata": {
    "ExecuteTime": {
     "end_time": "2022-12-02T06:27:43.159180Z",
     "start_time": "2022-12-02T06:27:42.925641Z"
    }
   },
   "outputs": [
    {
     "data": {
      "text/html": [
       "<div>\n",
       "<style scoped>\n",
       "    .dataframe tbody tr th:only-of-type {\n",
       "        vertical-align: middle;\n",
       "    }\n",
       "\n",
       "    .dataframe tbody tr th {\n",
       "        vertical-align: top;\n",
       "    }\n",
       "\n",
       "    .dataframe thead th {\n",
       "        text-align: right;\n",
       "    }\n",
       "</style>\n",
       "<table border=\"1\" class=\"dataframe\">\n",
       "  <thead>\n",
       "    <tr style=\"text-align: right;\">\n",
       "      <th></th>\n",
       "      <th>diagonal</th>\n",
       "      <th>height_left</th>\n",
       "      <th>height_right</th>\n",
       "      <th>margin_low</th>\n",
       "      <th>margin_up</th>\n",
       "      <th>length</th>\n",
       "      <th>cluster</th>\n",
       "    </tr>\n",
       "  </thead>\n",
       "  <tbody>\n",
       "    <tr>\n",
       "      <th>0</th>\n",
       "      <td>-0.486540</td>\n",
       "      <td>2.774123</td>\n",
       "      <td>3.163240</td>\n",
       "      <td>0.055390</td>\n",
       "      <td>-1.128325</td>\n",
       "      <td>0.173651</td>\n",
       "      <td>1</td>\n",
       "    </tr>\n",
       "    <tr>\n",
       "      <th>1</th>\n",
       "      <td>-1.633729</td>\n",
       "      <td>-2.236535</td>\n",
       "      <td>-0.799668</td>\n",
       "      <td>-1.081987</td>\n",
       "      <td>-0.696799</td>\n",
       "      <td>0.471666</td>\n",
       "      <td>0</td>\n",
       "    </tr>\n",
       "    <tr>\n",
       "      <th>2</th>\n",
       "      <td>2.397823</td>\n",
       "      <td>1.504756</td>\n",
       "      <td>-1.291191</td>\n",
       "      <td>-0.126591</td>\n",
       "      <td>-0.912562</td>\n",
       "      <td>0.551901</td>\n",
       "      <td>0</td>\n",
       "    </tr>\n",
       "    <tr>\n",
       "      <th>3</th>\n",
       "      <td>-1.961498</td>\n",
       "      <td>-0.399294</td>\n",
       "      <td>0.060498</td>\n",
       "      <td>-1.309463</td>\n",
       "      <td>-0.610494</td>\n",
       "      <td>0.953075</td>\n",
       "      <td>0</td>\n",
       "    </tr>\n",
       "    <tr>\n",
       "      <th>4</th>\n",
       "      <td>-0.748754</td>\n",
       "      <td>0.836669</td>\n",
       "      <td>-1.414072</td>\n",
       "      <td>-0.672532</td>\n",
       "      <td>1.417677</td>\n",
       "      <td>-0.158750</td>\n",
       "      <td>0</td>\n",
       "    </tr>\n",
       "  </tbody>\n",
       "</table>\n",
       "</div>"
      ],
      "text/plain": [
       "   diagonal  height_left  height_right  margin_low  margin_up    length  \\\n",
       "0 -0.486540     2.774123      3.163240    0.055390  -1.128325  0.173651   \n",
       "1 -1.633729    -2.236535     -0.799668   -1.081987  -0.696799  0.471666   \n",
       "2  2.397823     1.504756     -1.291191   -0.126591  -0.912562  0.551901   \n",
       "3 -1.961498    -0.399294      0.060498   -1.309463  -0.610494  0.953075   \n",
       "4 -0.748754     0.836669     -1.414072   -0.672532   1.417677 -0.158750   \n",
       "\n",
       "   cluster  \n",
       "0        1  \n",
       "1        0  \n",
       "2        0  \n",
       "3        0  \n",
       "4        0  "
      ]
     },
     "execution_count": 57,
     "metadata": {},
     "output_type": "execute_result"
    }
   ],
   "source": [
    "# K-Means model avec 2 clusters\n",
    "model_kmeans = KMeans(n_clusters=2)\n",
    "model_kmeans.fit(X_scaled)\n",
    "\n",
    "# Déterminer à quels clusters appartient chaque point de données\n",
    "clusters =  model_kmeans.fit_predict(X_scaled)\n",
    "\n",
    "# Ajout le numéro de cluster aux données originales mises à l'échelle.\n",
    "X_clustered = pd.DataFrame(X_scaled, index=df.index,\n",
    "                           columns=df.columns)\n",
    "X_clustered[\"cluster\"] = clusters\n",
    "\n",
    "X_clustered.head()"
   ]
  },
  {
   "cell_type": "markdown",
   "id": "0fe7020b",
   "metadata": {},
   "source": [
    "## Plan factoriel"
   ]
  },
  {
   "cell_type": "code",
   "execution_count": 58,
   "id": "211e949d",
   "metadata": {
    "ExecuteTime": {
     "end_time": "2022-12-02T06:27:43.497748Z",
     "start_time": "2022-12-02T06:27:43.168157Z"
    }
   },
   "outputs": [
    {
     "data": {
      "image/png": "[encoded data removed]",
      "text/plain": [
       "<Figure size 720x576 with 1 Axes>"
      ]
     },
     "metadata": {},
     "output_type": "display_data"
    }
   ],
   "source": [
    "centres_reduced = model_pca.transform(model_kmeans.cluster_centers_)\n",
    "plt.figure(figsize=(10,8))\n",
    "display_factorial_planes(X_reduced, 2, model_pca, [(0,1)], \n",
    "                         illustrative_var = clusters, alpha = 0.8)\n",
    "plt.scatter(centres_reduced[:, 0], centres_reduced[:, 1],\n",
    "            marker='x', s=169, linewidths=3,\n",
    "            color='black', zorder=10)\n",
    "plt.show()"
   ]
  },
  {
   "cell_type": "markdown",
   "id": "3f1d5542",
   "metadata": {},
   "source": [
    "## Analyse des centroïdes"
   ]
  },
  {
   "cell_type": "code",
   "execution_count": 59,
   "id": "fe5021cd",
   "metadata": {
    "ExecuteTime": {
     "end_time": "2022-12-02T06:27:43.520140Z",
     "start_time": "2022-12-02T06:27:43.502067Z"
    }
   },
   "outputs": [
    {
     "data": {
      "text/html": [
       "<div>\n",
       "<style scoped>\n",
       "    .dataframe tbody tr th:only-of-type {\n",
       "        vertical-align: middle;\n",
       "    }\n",
       "\n",
       "    .dataframe tbody tr th {\n",
       "        vertical-align: top;\n",
       "    }\n",
       "\n",
       "    .dataframe thead th {\n",
       "        text-align: right;\n",
       "    }\n",
       "</style>\n",
       "<table border=\"1\" class=\"dataframe\">\n",
       "  <thead>\n",
       "    <tr style=\"text-align: right;\">\n",
       "      <th></th>\n",
       "      <th>diagonal</th>\n",
       "      <th>height_left</th>\n",
       "      <th>height_right</th>\n",
       "      <th>margin_low</th>\n",
       "      <th>margin_up</th>\n",
       "      <th>length</th>\n",
       "    </tr>\n",
       "    <tr>\n",
       "      <th>cluster</th>\n",
       "      <th></th>\n",
       "      <th></th>\n",
       "      <th></th>\n",
       "      <th></th>\n",
       "      <th></th>\n",
       "      <th></th>\n",
       "    </tr>\n",
       "  </thead>\n",
       "  <tbody>\n",
       "    <tr>\n",
       "      <th>0</th>\n",
       "      <td>0.096000</td>\n",
       "      <td>-0.281946</td>\n",
       "      <td>-0.352419</td>\n",
       "      <td>-0.552445</td>\n",
       "      <td>-0.426924</td>\n",
       "      <td>0.593240</td>\n",
       "    </tr>\n",
       "    <tr>\n",
       "      <th>1</th>\n",
       "      <td>-0.194323</td>\n",
       "      <td>0.570713</td>\n",
       "      <td>0.713365</td>\n",
       "      <td>1.118257</td>\n",
       "      <td>0.864176</td>\n",
       "      <td>-1.200833</td>\n",
       "    </tr>\n",
       "  </tbody>\n",
       "</table>\n",
       "</div>"
      ],
      "text/plain": [
       "         diagonal  height_left  height_right  margin_low  margin_up    length\n",
       "cluster                                                                      \n",
       "0        0.096000    -0.281946     -0.352419   -0.552445  -0.426924  0.593240\n",
       "1       -0.194323     0.570713      0.713365    1.118257   0.864176 -1.200833"
      ]
     },
     "metadata": {},
     "output_type": "display_data"
    }
   ],
   "source": [
    "kmeans_ =  X_clustered.groupby(by=\"cluster\").mean()\n",
    "display(kmeans_)"
   ]
  },
  {
   "cell_type": "raw",
   "id": "4e40bfc5",
   "metadata": {},
   "source": [
    "Interprétation des clusters :\n",
    "Cluster 0 → hauteur (gauche et droite) et marge (haut et bas) plus élevées → faux billets de banque.\n",
    "Cluster 1 → longueur et diagonale supérieures → vrais billets."
   ]
  },
  {
   "cell_type": "markdown",
   "id": "6f442df8",
   "metadata": {},
   "source": [
    "**Cluster 0 : vrais billets**\n",
    "\n",
    "**Cluster 1 : faux billets**\n",
    "\n",
    "Deux dimensions géométriques sont plus élévées sur le cluster 0 qui est le groupe des vrais billets. Il s'agit de :\n",
    "\n",
    "- length qui est la longueur du billet (en mm)\n",
    "- et diagonal qui représente la diagonale du billet (en mm)\n",
    "\n",
    "Les 4 autres mésures sont quant à elles plus élévées sur le cluster1 qui est celui des faux billets. Ce sont :\n",
    "\n",
    "- height_left : la hauteur du billet (mesurée sur le côté gauche, enmm)\n",
    "- height_right : la hauteur du billet (mesurée sur le côté droit, en mm)\n",
    "- margin_up : la marge entre le bord supérieur du billet et l'image decelui-ci (en mm)\n",
    "- margin_low : la marge entre le bord inférieur du billet et l'image decelui-ci (en mm)"
   ]
  },
  {
   "cell_type": "markdown",
   "id": "2279d12f",
   "metadata": {},
   "source": [
    "## Modèle d'évaluation"
   ]
  },
  {
   "cell_type": "code",
   "execution_count": 60,
   "id": "fb1e2310",
   "metadata": {
    "ExecuteTime": {
     "end_time": "2022-12-02T06:27:43.531341Z",
     "start_time": "2022-12-02T06:27:43.523358Z"
    }
   },
   "outputs": [],
   "source": [
    "# Ajouter le numéro de cluster à l'ensemble de données original\n",
    "data_kmeans = initial_data.copy()\n",
    "data_kmeans = pd.DataFrame(initial_data, index=data_kmeans.index, \n",
    "                           columns=data_kmeans.columns)\n",
    "data_kmeans[\"cluster_kmeans\"] = clusters"
   ]
  },
  {
   "cell_type": "code",
   "execution_count": 61,
   "id": "a6244ab9",
   "metadata": {
    "ExecuteTime": {
     "end_time": "2022-12-02T06:27:43.557895Z",
     "start_time": "2022-12-02T06:27:43.534930Z"
    }
   },
   "outputs": [],
   "source": [
    "# Remplacer les valeurs de \"is_genuine\" par 1 et 0 et le renommer\n",
    "data_kmeans['is_genuine'].replace([True, False],[1,0], inplace=True)\n",
    "data_kmeans.rename(columns={\"is_genuine\":\"cluster_origin\"}, inplace=True)"
   ]
  },
  {
   "cell_type": "code",
   "execution_count": 62,
   "id": "3038f6ed",
   "metadata": {
    "ExecuteTime": {
     "end_time": "2022-12-02T06:27:43.588807Z",
     "start_time": "2022-12-02T06:27:43.564103Z"
    }
   },
   "outputs": [
    {
     "data": {
      "text/html": [
       "<div>\n",
       "<style scoped>\n",
       "    .dataframe tbody tr th:only-of-type {\n",
       "        vertical-align: middle;\n",
       "    }\n",
       "\n",
       "    .dataframe tbody tr th {\n",
       "        vertical-align: top;\n",
       "    }\n",
       "\n",
       "    .dataframe thead th {\n",
       "        text-align: right;\n",
       "    }\n",
       "</style>\n",
       "<table border=\"1\" class=\"dataframe\">\n",
       "  <thead>\n",
       "    <tr style=\"text-align: right;\">\n",
       "      <th></th>\n",
       "      <th>cluster_origin</th>\n",
       "      <th>diagonal</th>\n",
       "      <th>height_left</th>\n",
       "      <th>height_right</th>\n",
       "      <th>margin_low</th>\n",
       "      <th>margin_up</th>\n",
       "      <th>length</th>\n",
       "      <th>cluster_kmeans</th>\n",
       "    </tr>\n",
       "  </thead>\n",
       "  <tbody>\n",
       "    <tr>\n",
       "      <th>0</th>\n",
       "      <td>1</td>\n",
       "      <td>171.81</td>\n",
       "      <td>104.86</td>\n",
       "      <td>104.95</td>\n",
       "      <td>4.52</td>\n",
       "      <td>2.89</td>\n",
       "      <td>112.83</td>\n",
       "      <td>1</td>\n",
       "    </tr>\n",
       "    <tr>\n",
       "      <th>1</th>\n",
       "      <td>1</td>\n",
       "      <td>171.46</td>\n",
       "      <td>103.36</td>\n",
       "      <td>103.66</td>\n",
       "      <td>3.77</td>\n",
       "      <td>2.99</td>\n",
       "      <td>113.09</td>\n",
       "      <td>0</td>\n",
       "    </tr>\n",
       "    <tr>\n",
       "      <th>2</th>\n",
       "      <td>1</td>\n",
       "      <td>172.69</td>\n",
       "      <td>104.48</td>\n",
       "      <td>103.50</td>\n",
       "      <td>4.40</td>\n",
       "      <td>2.94</td>\n",
       "      <td>113.16</td>\n",
       "      <td>0</td>\n",
       "    </tr>\n",
       "    <tr>\n",
       "      <th>3</th>\n",
       "      <td>1</td>\n",
       "      <td>171.36</td>\n",
       "      <td>103.91</td>\n",
       "      <td>103.94</td>\n",
       "      <td>3.62</td>\n",
       "      <td>3.01</td>\n",
       "      <td>113.51</td>\n",
       "      <td>0</td>\n",
       "    </tr>\n",
       "    <tr>\n",
       "      <th>4</th>\n",
       "      <td>1</td>\n",
       "      <td>171.73</td>\n",
       "      <td>104.28</td>\n",
       "      <td>103.46</td>\n",
       "      <td>4.04</td>\n",
       "      <td>3.48</td>\n",
       "      <td>112.54</td>\n",
       "      <td>0</td>\n",
       "    </tr>\n",
       "  </tbody>\n",
       "</table>\n",
       "</div>"
      ],
      "text/plain": [
       "   cluster_origin  diagonal  height_left  height_right  margin_low  margin_up  \\\n",
       "0               1    171.81       104.86        104.95        4.52       2.89   \n",
       "1               1    171.46       103.36        103.66        3.77       2.99   \n",
       "2               1    172.69       104.48        103.50        4.40       2.94   \n",
       "3               1    171.36       103.91        103.94        3.62       3.01   \n",
       "4               1    171.73       104.28        103.46        4.04       3.48   \n",
       "\n",
       "   length  cluster_kmeans  \n",
       "0  112.83               1  \n",
       "1  113.09               0  \n",
       "2  113.16               0  \n",
       "3  113.51               0  \n",
       "4  112.54               0  "
      ]
     },
     "execution_count": 62,
     "metadata": {},
     "output_type": "execute_result"
    }
   ],
   "source": [
    "data_kmeans.head()"
   ]
  },
  {
   "cell_type": "markdown",
   "id": "9e9cbfa3",
   "metadata": {},
   "source": [
    "## Matrice de confusion"
   ]
  },
  {
   "cell_type": "code",
   "execution_count": 63,
   "id": "8bb1a019",
   "metadata": {
    "ExecuteTime": {
     "end_time": "2022-12-02T06:27:43.879502Z",
     "start_time": "2022-12-02T06:27:43.592939Z"
    },
    "code_folding": []
   },
   "outputs": [
    {
     "data": {
      "image/png": "[encoded data removed]",
      "text/plain": [
       "<Figure size 504x360 with 2 Axes>"
      ]
     },
     "metadata": {},
     "output_type": "display_data"
    }
   ],
   "source": [
    "conf_matrix = pd.crosstab(data_kmeans['cluster_origin'], \n",
    "                          model_kmeans.labels_)\n",
    "plt.figure(figsize=(7,5))\n",
    "sns.heatmap(conf_matrix, annot = True, fmt = \".3g\", linewidths = 0.3)\n",
    "plt.xlabel(\"Valeurs prédictes\")\n",
    "plt.ylabel(\"Valeurs réelles\")\n",
    "plt.title(\"Matrice de confusion Kmeans\\n\")\n",
    "plt.show()"
   ]
  },
  {
   "cell_type": "markdown",
   "id": "a2cd97e2",
   "metadata": {},
   "source": [
    "**Observation :**\n",
    "\n",
    "- Sur les 1000 vrais billets de la classe 0: nous avons 990 bien classés contre 10 mal classés → Nous avons 10 faux positifs soit 99% de taux de précision.\n",
    "\n",
    "- Sur les 500 faux billets la classe 1: nous avons 486 bien classés contre 14 mal classés→ Nous avons 14 faux négatifs soit environ 98% de taux de précision."
   ]
  },
  {
   "cell_type": "markdown",
   "id": "6388c78e",
   "metadata": {},
   "source": [
    "# Régression logistique\n",
    "---"
   ]
  },
  {
   "cell_type": "markdown",
   "id": "843fb060",
   "metadata": {},
   "source": [
    "*La régresssion logistique utilise une fonction analytique, appelée fonction logistique ou fonction sigmoïde, qui a une forme caractéristique en S. En optimisant les coefficients de cette courbe (max de vraisemblance ou min de cross-entropie), elle permet d'estimer la probabilité pour un échantillon d'appartenir à telle ou telle classe. Par exemple, tumoral versus normal.*"
   ]
  },
  {
   "cell_type": "markdown",
   "id": "7f1cea8b",
   "metadata": {},
   "source": [
    "## Mise en œuvre"
   ]
  },
  {
   "cell_type": "code",
   "execution_count": 64,
   "id": "11e0d7db",
   "metadata": {
    "ExecuteTime": {
     "end_time": "2022-12-02T06:27:43.927803Z",
     "start_time": "2022-12-02T06:27:43.884063Z"
    }
   },
   "outputs": [
    {
     "name": "stdout",
     "output_type": "stream",
     "text": [
      "Taux de précision du modèle d'entraînement : 98.76 %\n",
      "Taux de précision du modèle de validation : 99.73 %\n"
     ]
    }
   ],
   "source": [
    "data_reglog = initial_data.copy()\n",
    "\n",
    "# Définir les valeurs caractéristiques X et la valeur cible Y\n",
    "x = data_reglog.iloc[:, 1:]\n",
    "y = data_reglog.iloc[:, 0]\n",
    "\n",
    "# Division des données (0,75/0,25 par défaut)\n",
    "x_train, x_test, y_train, y_test = train_test_split(x, y,stratify=y, random_state = 0, shuffle=True) \n",
    "\n",
    "# Instanciation du modèle\n",
    "model_regLog = linear_model.LogisticRegression(random_state = 0, \n",
    "                solver = 'liblinear', multi_class = 'auto')\n",
    "\n",
    "# Entrainement\n",
    "model_regLog.fit(x_train,y_train)\n",
    "\n",
    "# Taux de précision du modèle\n",
    "precision_train = model_regLog.score(x_train,y_train)\n",
    "precision_test = model_regLog.score(x_test,y_test)\n",
    "print(\"Taux de précision du modèle d'entraînement :\",round(precision_train*100,2),\"%\")\n",
    "print(\"Taux de précision du modèle de validation :\",round(precision_test*100,2),\"%\")"
   ]
  },
  {
   "cell_type": "markdown",
   "id": "51273275",
   "metadata": {},
   "source": [
    "## Tests prédictifs"
   ]
  },
  {
   "cell_type": "code",
   "execution_count": 65,
   "id": "e8c07dea",
   "metadata": {
    "ExecuteTime": {
     "end_time": "2022-12-02T06:27:43.942915Z",
     "start_time": "2022-12-02T06:27:43.931653Z"
    }
   },
   "outputs": [
    {
     "name": "stdout",
     "output_type": "stream",
     "text": [
      "False\n"
     ]
    }
   ],
   "source": [
    "# Test1\n",
    "prediction_test1 = model_regLog.predict([[171.81,104.86,104.95,4.52,2.89,112.83]])\n",
    "print(prediction_test1[0])"
   ]
  },
  {
   "cell_type": "code",
   "execution_count": 66,
   "id": "495a648d",
   "metadata": {
    "ExecuteTime": {
     "end_time": "2022-12-02T06:27:43.957182Z",
     "start_time": "2022-12-02T06:27:43.949096Z"
    }
   },
   "outputs": [
    {
     "name": "stdout",
     "output_type": "stream",
     "text": [
      "True\n"
     ]
    }
   ],
   "source": [
    "# Test 2\n",
    "prediction_test2 = model_regLog.predict([[171.46,103.36,103.66,3.77,2.99,113.09]])\n",
    "print(prediction_test2[0]);"
   ]
  },
  {
   "cell_type": "code",
   "execution_count": 67,
   "id": "333735c2",
   "metadata": {
    "ExecuteTime": {
     "end_time": "2022-12-02T06:27:43.979890Z",
     "start_time": "2022-12-02T06:27:43.968034Z"
    }
   },
   "outputs": [],
   "source": [
    "# Predictions\n",
    "y_pred_test = model_regLog.predict(x_test)"
   ]
  },
  {
   "cell_type": "markdown",
   "id": "64b2024a",
   "metadata": {},
   "source": [
    "## Modèle d'évaluation"
   ]
  },
  {
   "cell_type": "markdown",
   "id": "9441c152",
   "metadata": {},
   "source": [
    "## Matrice de confusion"
   ]
  },
  {
   "cell_type": "code",
   "execution_count": 68,
   "id": "61c7b78c",
   "metadata": {
    "ExecuteTime": {
     "end_time": "2022-12-02T06:27:44.259272Z",
     "start_time": "2022-12-02T06:27:43.988692Z"
    }
   },
   "outputs": [
    {
     "data": {
      "image/png": "[encoded data removed]",
      "text/plain": [
       "<Figure size 504x360 with 2 Axes>"
      ]
     },
     "metadata": {},
     "output_type": "display_data"
    }
   ],
   "source": [
    "plt.figure(figsize=(7,5))\n",
    "conf_matrix_reglog = pd.crosstab(y_test, y_pred_test)\n",
    "sns.heatmap(conf_matrix_reglog, annot = True, fmt = \".3g\", linewidths = 0.3)\n",
    "plt.xlabel(\"Valeurs prédictes\")\n",
    "plt.ylabel(\"Valeurs réelles\")\n",
    "plt.title(\"Matrice de confusion\\n\")\n",
    "plt.show()"
   ]
  },
  {
   "cell_type": "markdown",
   "id": "64aaaee7",
   "metadata": {},
   "source": [
    "**Avis :**\n",
    "- Sur les 124 faux billets → Nous avons 1 faux négatif → 99,6% de taux de précision.\n",
    "- Sur les 250 vrais billets → Nous avons 0 faux positifs → Taux de précision de 100%."
   ]
  },
  {
   "cell_type": "markdown",
   "id": "303cbc6e",
   "metadata": {},
   "source": [
    "## Mesure de la qualité de la classification (courbe ROC)"
   ]
  },
  {
   "cell_type": "markdown",
   "id": "fcdb791c",
   "metadata": {},
   "source": [
    "*Une courbe ROC (Receiver Operator Characteristic) est un graphique utilisé pour montrer la capacité de diagnostic des classificateurs binaires. L'aire sous la courbe représente la capacité du modèle à discriminer correctement les exemples négatifs et positifs, entre une classe ou une autre.*\n",
    "\n",
    "*Une valeur de 1,0, soit la totalité de l'aire sous la courbe, représente un classificateur parfait. Cela signifie qu'une AUC de 0,5 est aussi bonne que de deviner au hasard. La courbe ROC est calculée en fonction de la sensibilité (taux de vrais positifs/rappel) et de la spécificité (taux de vrais négatifs).*"
   ]
  },
  {
   "cell_type": "code",
   "execution_count": 69,
   "id": "57272c46",
   "metadata": {
    "ExecuteTime": {
     "end_time": "2022-12-02T06:27:44.655782Z",
     "start_time": "2022-12-02T06:27:44.262816Z"
    }
   },
   "outputs": [
    {
     "data": {
      "image/png": "[encoded data removed]",
      "text/plain": [
       "<Figure size 432x288 with 1 Axes>"
      ]
     },
     "metadata": {},
     "output_type": "display_data"
    }
   ],
   "source": [
    "# Définir les métriques\n",
    "plt.figure(figsize=(6,4))\n",
    "y_pred_proba = model_regLog.predict_proba(x_test)[::,1]\n",
    "fpr, tpr, _ = metrics.roc_curve(y_test,  y_pred_proba)\n",
    "\n",
    "# Créer la courbe ROC\n",
    "plt.plot(fpr,tpr)\n",
    "plt.ylabel('Taux de vrais positifs')\n",
    "plt.xlabel('Taux de faux positifs')\n",
    "plt.title(\"Courbe de ROC\\n\")\n",
    "plt.show()"
   ]
  },
  {
   "cell_type": "markdown",
   "id": "a82a05ff",
   "metadata": {},
   "source": [
    "**Avis :**\n",
    "L'aire sous la courbe ROC (AUC) est presque égale à 1 → la classification est de très bonne qualité."
   ]
  },
  {
   "cell_type": "markdown",
   "id": "65912ac6",
   "metadata": {},
   "source": [
    "## Optimisation\n"
   ]
  },
  {
   "cell_type": "raw",
   "id": "dd954039",
   "metadata": {},
   "source": [
    "La validation croisée par recherche sur grille est une technique permettant de sélectionner le meilleur des modèles d'apprentissage automatique, paramétrés par une grille d'hyperparamètres."
   ]
  },
  {
   "cell_type": "code",
   "execution_count": 70,
   "id": "30368ed6",
   "metadata": {
    "ExecuteTime": {
     "end_time": "2022-12-02T06:28:17.036300Z",
     "start_time": "2022-12-02T06:27:44.675096Z"
    }
   },
   "outputs": [
    {
     "data": {
      "text/html": [
       "<style>#sk-container-id-1 {color: black;background-color: white;}#sk-container-id-1 pre{padding: 0;}#sk-container-id-1 div.sk-toggleable {background-color: white;}#sk-container-id-1 label.sk-toggleable__label {cursor: pointer;display: block;width: 100%;margin-bottom: 0;padding: 0.3em;box-sizing: border-box;text-align: center;}#sk-container-id-1 label.sk-toggleable__label-arrow:before {content: \"▸\";float: left;margin-right: 0.25em;color: #696969;}#sk-container-id-1 label.sk-toggleable__label-arrow:hover:before {color: black;}#sk-container-id-1 div.sk-estimator:hover label.sk-toggleable__label-arrow:before {color: black;}#sk-container-id-1 div.sk-toggleable__content {max-height: 0;max-width: 0;overflow: hidden;text-align: left;background-color: #f0f8ff;}#sk-container-id-1 div.sk-toggleable__content pre {margin: 0.2em;color: black;border-radius: 0.25em;background-color: #f0f8ff;}#sk-container-id-1 input.sk-toggleable__control:checked~div.sk-toggleable__content {max-height: 200px;max-width: 100%;overflow: auto;}#sk-container-id-1 input.sk-toggleable__control:checked~label.sk-toggleable__label-arrow:before {content: \"▾\";}#sk-container-id-1 div.sk-estimator input.sk-toggleable__control:checked~label.sk-toggleable__label {background-color: #d4ebff;}#sk-container-id-1 div.sk-label input.sk-toggleable__control:checked~label.sk-toggleable__label {background-color: #d4ebff;}#sk-container-id-1 input.sk-hidden--visually {border: 0;clip: rect(1px 1px 1px 1px);clip: rect(1px, 1px, 1px, 1px);height: 1px;margin: -1px;overflow: hidden;padding: 0;position: absolute;width: 1px;}#sk-container-id-1 div.sk-estimator {font-family: monospace;background-color: #f0f8ff;border: 1px dotted black;border-radius: 0.25em;box-sizing: border-box;margin-bottom: 0.5em;}#sk-container-id-1 div.sk-estimator:hover {background-color: #d4ebff;}#sk-container-id-1 div.sk-parallel-item::after {content: \"\";width: 100%;border-bottom: 1px solid gray;flex-grow: 1;}#sk-container-id-1 div.sk-label:hover label.sk-toggleable__label {background-color: #d4ebff;}#sk-container-id-1 div.sk-serial::before {content: \"\";position: absolute;border-left: 1px solid gray;box-sizing: border-box;top: 0;bottom: 0;left: 50%;z-index: 0;}#sk-container-id-1 div.sk-serial {display: flex;flex-direction: column;align-items: center;background-color: white;padding-right: 0.2em;padding-left: 0.2em;position: relative;}#sk-container-id-1 div.sk-item {position: relative;z-index: 1;}#sk-container-id-1 div.sk-parallel {display: flex;align-items: stretch;justify-content: center;background-color: white;position: relative;}#sk-container-id-1 div.sk-item::before, #sk-container-id-1 div.sk-parallel-item::before {content: \"\";position: absolute;border-left: 1px solid gray;box-sizing: border-box;top: 0;bottom: 0;left: 50%;z-index: -1;}#sk-container-id-1 div.sk-parallel-item {display: flex;flex-direction: column;z-index: 1;position: relative;background-color: white;}#sk-container-id-1 div.sk-parallel-item:first-child::after {align-self: flex-end;width: 50%;}#sk-container-id-1 div.sk-parallel-item:last-child::after {align-self: flex-start;width: 50%;}#sk-container-id-1 div.sk-parallel-item:only-child::after {width: 0;}#sk-container-id-1 div.sk-dashed-wrapped {border: 1px dashed gray;margin: 0 0.4em 0.5em 0.4em;box-sizing: border-box;padding-bottom: 0.4em;background-color: white;}#sk-container-id-1 div.sk-label label {font-family: monospace;font-weight: bold;display: inline-block;line-height: 1.2em;}#sk-container-id-1 div.sk-label-container {text-align: center;}#sk-container-id-1 div.sk-container {/* jupyter's `normalize.less` sets `[hidden] { display: none; }` but bootstrap.min.css set `[hidden] { display: none !important; }` so we also need the `!important` here to be able to override the default hidden behavior on the sphinx rendered scikit-learn.org. See: https://github.com/scikit-learn/scikit-learn/issues/21755 */display: inline-block !important;position: relative;}#sk-container-id-1 div.sk-text-repr-fallback {display: none;}</style><div id=\"sk-container-id-1\" class=\"sk-top-container\"><div class=\"sk-text-repr-fallback\"><pre>GridSearchCV(cv=10,\n",
       "             estimator=LogisticRegression(random_state=0, solver=&#x27;liblinear&#x27;),\n",
       "             param_grid={&#x27;C&#x27;: [1, 10, 100, 1000],\n",
       "                         &#x27;penalty&#x27;: [&#x27;l1&#x27;, &#x27;l2&#x27;, &#x27;elasticnet&#x27;, &#x27;none&#x27;],\n",
       "                         &#x27;random_state&#x27;: [0],\n",
       "                         &#x27;solver&#x27;: [&#x27;newton-cg&#x27;, &#x27;lbfgs&#x27;, &#x27;liblinear&#x27;, &#x27;sag&#x27;,\n",
       "                                    &#x27;saga&#x27;]})</pre><b>In a Jupyter environment, please rerun this cell to show the HTML representation or trust the notebook. <br />On GitHub, the HTML representation is unable to render, please try loading this page with nbviewer.org.</b></div><div class=\"sk-container\" hidden><div class=\"sk-item sk-dashed-wrapped\"><div class=\"sk-label-container\"><div class=\"sk-label sk-toggleable\"><input class=\"sk-toggleable__control sk-hidden--visually\" id=\"sk-estimator-id-1\" type=\"checkbox\" ><label for=\"sk-estimator-id-1\" class=\"sk-toggleable__label sk-toggleable__label-arrow\">GridSearchCV</label><div class=\"sk-toggleable__content\"><pre>GridSearchCV(cv=10,\n",
       "             estimator=LogisticRegression(random_state=0, solver=&#x27;liblinear&#x27;),\n",
       "             param_grid={&#x27;C&#x27;: [1, 10, 100, 1000],\n",
       "                         &#x27;penalty&#x27;: [&#x27;l1&#x27;, &#x27;l2&#x27;, &#x27;elasticnet&#x27;, &#x27;none&#x27;],\n",
       "                         &#x27;random_state&#x27;: [0],\n",
       "                         &#x27;solver&#x27;: [&#x27;newton-cg&#x27;, &#x27;lbfgs&#x27;, &#x27;liblinear&#x27;, &#x27;sag&#x27;,\n",
       "                                    &#x27;saga&#x27;]})</pre></div></div></div><div class=\"sk-parallel\"><div class=\"sk-parallel-item\"><div class=\"sk-item\"><div class=\"sk-label-container\"><div class=\"sk-label sk-toggleable\"><input class=\"sk-toggleable__control sk-hidden--visually\" id=\"sk-estimator-id-2\" type=\"checkbox\" ><label for=\"sk-estimator-id-2\" class=\"sk-toggleable__label sk-toggleable__label-arrow\">estimator: LogisticRegression</label><div class=\"sk-toggleable__content\"><pre>LogisticRegression(random_state=0, solver=&#x27;liblinear&#x27;)</pre></div></div></div><div class=\"sk-serial\"><div class=\"sk-item\"><div class=\"sk-estimator sk-toggleable\"><input class=\"sk-toggleable__control sk-hidden--visually\" id=\"sk-estimator-id-3\" type=\"checkbox\" ><label for=\"sk-estimator-id-3\" class=\"sk-toggleable__label sk-toggleable__label-arrow\">LogisticRegression</label><div class=\"sk-toggleable__content\"><pre>LogisticRegression(random_state=0, solver=&#x27;liblinear&#x27;)</pre></div></div></div></div></div></div></div></div></div></div>"
      ],
      "text/plain": [
       "GridSearchCV(cv=10,\n",
       "             estimator=LogisticRegression(random_state=0, solver='liblinear'),\n",
       "             param_grid={'C': [1, 10, 100, 1000],\n",
       "                         'penalty': ['l1', 'l2', 'elasticnet', 'none'],\n",
       "                         'random_state': [0],\n",
       "                         'solver': ['newton-cg', 'lbfgs', 'liblinear', 'sag',\n",
       "                                    'saga']})"
      ]
     },
     "execution_count": 70,
     "metadata": {},
     "output_type": "execute_result"
    }
   ],
   "source": [
    "grid = {\"C\":[1, 10, 100, 1000], \n",
    "         \"solver\":[\"newton-cg\", \"lbfgs\", \"liblinear\", \"sag\", \"saga\"],\n",
    "         \"penalty\":[\"l1\",\"l2\",\"elasticnet\",\"none\"],\n",
    "         \"random_state\":[0]}\n",
    "model_opti = GridSearchCV(model_regLog, grid, cv = 10)\n",
    "model_opti.fit(x_train,y_train)"
   ]
  },
  {
   "cell_type": "code",
   "execution_count": 71,
   "id": "70c1ceb9",
   "metadata": {
    "ExecuteTime": {
     "end_time": "2022-12-02T06:28:17.048524Z",
     "start_time": "2022-12-02T06:28:17.041265Z"
    }
   },
   "outputs": [
    {
     "name": "stdout",
     "output_type": "stream",
     "text": [
      "Hyperparamètres réglés (meilleurs paramètres) : {'C': 1, 'penalty': 'none', 'random_state': 0, 'solver': 'newton-cg'}\n",
      "Taux de précision du modèle : 99.02 %\n"
     ]
    }
   ],
   "source": [
    "print(\"Hyperparamètres réglés (meilleurs paramètres) :\",model_opti.best_params_)\n",
    "print(\"Taux de précision du modèle :\",round(model_opti.best_score_*100,2),\"%\")"
   ]
  },
  {
   "cell_type": "markdown",
   "id": "5796f691",
   "metadata": {},
   "source": [
    "**Evaluation du modèle**"
   ]
  },
  {
   "cell_type": "code",
   "execution_count": 72,
   "id": "7cf6fa2d",
   "metadata": {
    "ExecuteTime": {
     "end_time": "2022-12-02T06:28:17.375254Z",
     "start_time": "2022-12-02T06:28:17.054664Z"
    }
   },
   "outputs": [
    {
     "name": "stdout",
     "output_type": "stream",
     "text": [
      "Taux de précision du modèle d'entraînement : 98.84 %\n",
      "Taux de précision du modèle de validation : 99.73 %\n"
     ]
    }
   ],
   "source": [
    "# Prédictions\n",
    "# Instanciation du modèle\n",
    "model_opti = linear_model.LogisticRegression(C=1, penalty='l2', random_state=0, solver='newton-cg')\n",
    "#model_regLog = linear_model.LogisticRegression(random_state = 0, \n",
    "                #solver = 'liblinear', multi_class = 'auto') => PRoblème d'incompatibilité du modèle en essayant d'optimisant le modèle, le problème se situe sur la 'penality'  => on conserve le modèle car il répond à la problématique métier\n",
    "\n",
    "# Entrainement\n",
    "model_opti.fit(x_train,y_train)\n",
    "\n",
    "# Taux de précision du modèle\n",
    "precision_train = model_opti.score(x_train,y_train)\n",
    "precision_test = model_opti.score(x_test,y_test)\n",
    "print(\"Taux de précision du modèle d'entraînement :\",round(precision_train*100,2),\"%\")\n",
    "print(\"Taux de précision du modèle de validation :\",round(precision_test*100,2),\"%\")\n",
    "\n",
    "y_pred_test = model_opti.predict(x_test)"
   ]
  },
  {
   "cell_type": "code",
   "execution_count": 73,
   "id": "425ee423",
   "metadata": {
    "ExecuteTime": {
     "end_time": "2022-12-02T06:28:17.706944Z",
     "start_time": "2022-12-02T06:28:17.397531Z"
    }
   },
   "outputs": [
    {
     "data": {
      "image/png": "[encoded data removed]",
      "text/plain": [
       "<Figure size 504x360 with 2 Axes>"
      ]
     },
     "metadata": {},
     "output_type": "display_data"
    }
   ],
   "source": [
    "plt.figure(figsize=(7,5))\n",
    "conf_matrix_reglog2 = pd.crosstab(y_test, y_pred_test)\n",
    "sns.heatmap(conf_matrix_reglog2, annot = True, fmt = \".3g\", linewidths = 0.3)\n",
    "plt.xlabel(\"Valeurs prédictes\")\n",
    "plt.ylabel(\"Valeurs réelles\")\n",
    "plt.title(\"Matrice de confusion\\n\")\n",
    "plt.show()"
   ]
  },
  {
   "cell_type": "markdown",
   "id": "05edef95",
   "metadata": {},
   "source": [
    "**Avis :**\n",
    "\n",
    "- Sur les 124 faux billets → Nous avons 1 faux négatif → 99,6% de taux de précision.\n",
    "- Sur les 250 vrais billets → Nous avons 0 faux positifs → Taux de précision de 100%."
   ]
  },
  {
   "cell_type": "markdown",
   "id": "1dec1e93",
   "metadata": {},
   "source": [
    "**Métriques de performance**"
   ]
  },
  {
   "cell_type": "code",
   "execution_count": 74,
   "id": "aac0d456",
   "metadata": {
    "ExecuteTime": {
     "end_time": "2022-12-02T06:28:17.743433Z",
     "start_time": "2022-12-02T06:28:17.710740Z"
    }
   },
   "outputs": [
    {
     "name": "stdout",
     "output_type": "stream",
     "text": [
      "Taux de bonne classification est de  99.73 %\n",
      "Le score de précision est de  99.6 %\n",
      "Le score de rappel est de  100.0 %\n",
      "Le F1 score est de  99.8 %\n"
     ]
    }
   ],
   "source": [
    "print(\"Taux de bonne classification est de \", round(accuracy_score(y_test, y_pred_test)*100, 2),\"%\")\n",
    "print(\"Le score de précision est de \", round(precision_score(y_test, y_pred_test)*100, 2),\"%\")\n",
    "print(\"Le score de rappel est de \", round(recall_score(y_test, y_pred_test)*100, 2),\"%\")\n",
    "print(\"Le F1 score est de \", round(f1_score(y_test, y_pred_test)*100, 2),\"%\")"
   ]
  },
  {
   "cell_type": "markdown",
   "id": "4f04261a",
   "metadata": {},
   "source": [
    "**Sélection finale :**\n",
    "Au vu des résultats (taux de précision) de nos deux modèles, nous allons sélectionner le modèle de régression logistique pour la mise en œuvre de notre fonction de test."
   ]
  },
  {
   "cell_type": "markdown",
   "id": "dc732ea6",
   "metadata": {},
   "source": [
    "# Validation croisée"
   ]
  },
  {
   "cell_type": "markdown",
   "id": "aa0c35d4",
   "metadata": {},
   "source": [
    "## Pipeline"
   ]
  },
  {
   "cell_type": "markdown",
   "id": "196390ca",
   "metadata": {},
   "source": [
    "### Principe"
   ]
  },
  {
   "cell_type": "code",
   "execution_count": 75,
   "id": "868ea8a5",
   "metadata": {
    "ExecuteTime": {
     "end_time": "2022-12-02T06:28:17.768419Z",
     "start_time": "2022-12-02T06:28:17.752819Z"
    }
   },
   "outputs": [
    {
     "name": "stdout",
     "output_type": "stream",
     "text": [
      "Train (1000, 6) Test (500, 6)\n",
      "Train (1000, 6) Test (500, 6)\n",
      "Train (1000, 6) Test (500, 6)\n"
     ]
    }
   ],
   "source": [
    "random_state = 0\n",
    "cross_validation = StratifiedKFold(n_splits=3, random_state=random_state, shuffle=True)\n",
    "\n",
    "for train_index, test_index in cross_validation.split(X, y):\n",
    "    X_train = X.iloc[train_index]\n",
    "    X_test = X.iloc[test_index]\n",
    "    print('Train', X_train.shape, 'Test', X_test.shape)"
   ]
  },
  {
   "cell_type": "markdown",
   "id": "78e641ab",
   "metadata": {},
   "source": [
    "### Calcul détaillé "
   ]
  },
  {
   "cell_type": "code",
   "execution_count": 76,
   "id": "14fdd2b5",
   "metadata": {
    "ExecuteTime": {
     "end_time": "2022-12-02T06:28:17.830361Z",
     "start_time": "2022-12-02T06:28:17.771527Z"
    }
   },
   "outputs": [
    {
     "name": "stdout",
     "output_type": "stream",
     "text": [
      "Scores de validation croisée: [0.992 0.984 0.99 ]\n",
      "Moyenne test accuracy 0.989\n"
     ]
    }
   ],
   "source": [
    "classifier = SVC(kernel='linear', random_state=random_state, class_weight='balanced')\n",
    "\n",
    "\n",
    "pipeline = Pipeline([('scaler', scaler), ('classifier', classifier)])\n",
    "\n",
    "accuracy = cross_val_score(pipeline, X, y, cv=cross_validation)\n",
    "print(\"Scores de validation croisée: {}\".format(accuracy))\n",
    "print('Moyenne test accuracy', '{:.3f}'.format(accuracy.mean()))"
   ]
  },
  {
   "cell_type": "markdown",
   "id": "4f4a3ea3",
   "metadata": {},
   "source": [
    "**Pourcentation des prédictions correctes**"
   ]
  },
  {
   "cell_type": "markdown",
   "id": "922700b7",
   "metadata": {},
   "source": [
    "- Itération 1 : 99,2%\n",
    "- Itération 2 : 98,4%\n",
    "- Itération 3 : 99%\n",
    "\n",
    "Estimation de la performance svm est de 98,9% ce qui signifie que le modèle 98,9% de prédictions correctes en moyenne"
   ]
  },
  {
   "cell_type": "markdown",
   "id": "1c5b31fa",
   "metadata": {},
   "source": [
    "# Mise en œuvre de la fonction de test\n",
    "---"
   ]
  },
  {
   "cell_type": "markdown",
   "id": "98881aa8",
   "metadata": {},
   "source": [
    "## Préparation des données"
   ]
  },
  {
   "cell_type": "code",
   "execution_count": 77,
   "id": "a6c8aa0a",
   "metadata": {
    "ExecuteTime": {
     "end_time": "2022-12-02T06:28:17.853837Z",
     "start_time": "2022-12-02T06:28:17.832692Z"
    }
   },
   "outputs": [
    {
     "data": {
      "text/html": [
       "<div>\n",
       "<style scoped>\n",
       "    .dataframe tbody tr th:only-of-type {\n",
       "        vertical-align: middle;\n",
       "    }\n",
       "\n",
       "    .dataframe tbody tr th {\n",
       "        vertical-align: top;\n",
       "    }\n",
       "\n",
       "    .dataframe thead th {\n",
       "        text-align: right;\n",
       "    }\n",
       "</style>\n",
       "<table border=\"1\" class=\"dataframe\">\n",
       "  <thead>\n",
       "    <tr style=\"text-align: right;\">\n",
       "      <th></th>\n",
       "      <th>diagonal</th>\n",
       "      <th>height_left</th>\n",
       "      <th>height_right</th>\n",
       "      <th>margin_low</th>\n",
       "      <th>margin_up</th>\n",
       "      <th>length</th>\n",
       "      <th>id</th>\n",
       "    </tr>\n",
       "  </thead>\n",
       "  <tbody>\n",
       "    <tr>\n",
       "      <th>0</th>\n",
       "      <td>171.76</td>\n",
       "      <td>104.01</td>\n",
       "      <td>103.54</td>\n",
       "      <td>5.21</td>\n",
       "      <td>3.30</td>\n",
       "      <td>111.42</td>\n",
       "      <td>A_1</td>\n",
       "    </tr>\n",
       "    <tr>\n",
       "      <th>1</th>\n",
       "      <td>171.87</td>\n",
       "      <td>104.17</td>\n",
       "      <td>104.13</td>\n",
       "      <td>6.00</td>\n",
       "      <td>3.31</td>\n",
       "      <td>112.09</td>\n",
       "      <td>A_2</td>\n",
       "    </tr>\n",
       "    <tr>\n",
       "      <th>2</th>\n",
       "      <td>172.00</td>\n",
       "      <td>104.58</td>\n",
       "      <td>104.29</td>\n",
       "      <td>4.99</td>\n",
       "      <td>3.39</td>\n",
       "      <td>111.57</td>\n",
       "      <td>A_3</td>\n",
       "    </tr>\n",
       "    <tr>\n",
       "      <th>3</th>\n",
       "      <td>172.49</td>\n",
       "      <td>104.55</td>\n",
       "      <td>104.34</td>\n",
       "      <td>4.44</td>\n",
       "      <td>3.03</td>\n",
       "      <td>113.20</td>\n",
       "      <td>A_4</td>\n",
       "    </tr>\n",
       "    <tr>\n",
       "      <th>4</th>\n",
       "      <td>171.65</td>\n",
       "      <td>103.63</td>\n",
       "      <td>103.56</td>\n",
       "      <td>3.77</td>\n",
       "      <td>3.16</td>\n",
       "      <td>113.33</td>\n",
       "      <td>A_5</td>\n",
       "    </tr>\n",
       "  </tbody>\n",
       "</table>\n",
       "</div>"
      ],
      "text/plain": [
       "   diagonal  height_left  height_right  margin_low  margin_up  length   id\n",
       "0    171.76       104.01        103.54        5.21       3.30  111.42  A_1\n",
       "1    171.87       104.17        104.13        6.00       3.31  112.09  A_2\n",
       "2    172.00       104.58        104.29        4.99       3.39  111.57  A_3\n",
       "3    172.49       104.55        104.34        4.44       3.03  113.20  A_4\n",
       "4    171.65       103.63        103.56        3.77       3.16  113.33  A_5"
      ]
     },
     "metadata": {},
     "output_type": "display_data"
    }
   ],
   "source": [
    "# Dataset à tester\n",
    "billets_prod = pd.read_csv(\"billets_production.csv\")\n",
    "display(billets_prod.head())"
   ]
  },
  {
   "cell_type": "markdown",
   "id": "d8457d8a",
   "metadata": {},
   "source": [
    "## Application de la fonction de test"
   ]
  },
  {
   "cell_type": "code",
   "execution_count": 78,
   "id": "aa307fca",
   "metadata": {
    "ExecuteTime": {
     "end_time": "2022-12-02T06:28:17.864484Z",
     "start_time": "2022-12-02T06:28:17.856550Z"
    }
   },
   "outputs": [],
   "source": [
    "def fake_detect(file, model_opti):\n",
    "    data = pd.read_csv(file)\n",
    "    display(data.head())\n",
    "    x = data[['diagonal', 'height_left', 'height_right', 'margin_low', 'margin_up','length']]\n",
    "    prediction = model_opti.predict(x)\n",
    "    probability = model_opti.predict_proba(x)\n",
    "    x[\"proba_false\"] = probability[:,0]\n",
    "    x[\"proba_true\"] = probability[:,1]\n",
    "    x[\"prediction\"] = prediction\n",
    "    x_fake_detect = pd.DataFrame(x, index=x.index, columns=x.columns)\n",
    "    data_fake_detect = data.merge(x_fake_detect)\n",
    "    \n",
    "    print(\" \"*50,\"*\"*50,\"\\n\")\n",
    "    print('\\033[1m' + \"Nombre total de billets : \" +  '\\033[0m',len(x))\n",
    "    print('\\033[1m' + \"Nombre total de faux billets : \" +  '\\033[0m',len(x[x[\"prediction\"]== 0]))\n",
    "    print('\\033[1m' + \"Nombre total de vrais billets : \" +  '\\033[0m',len(x[x[\"prediction\"]== 1]), \"\\n\")\n",
    "    \n",
    "    display(data_fake_detect)\n",
    "    print(\" \"*50,\"*\"*50,\"\\n\")"
   ]
  },
  {
   "cell_type": "markdown",
   "id": "5473bbc5",
   "metadata": {},
   "source": [
    "## Résultats des tests "
   ]
  },
  {
   "cell_type": "markdown",
   "id": "6c42a4e4",
   "metadata": {},
   "source": [
    "**Test 1**\n",
    "\n",
    "---"
   ]
  },
  {
   "cell_type": "code",
   "execution_count": 79,
   "id": "db6800ae",
   "metadata": {
    "ExecuteTime": {
     "end_time": "2022-12-02T06:28:17.917406Z",
     "start_time": "2022-12-02T06:28:17.867673Z"
    },
    "scrolled": true
   },
   "outputs": [
    {
     "data": {
      "text/html": [
       "<div>\n",
       "<style scoped>\n",
       "    .dataframe tbody tr th:only-of-type {\n",
       "        vertical-align: middle;\n",
       "    }\n",
       "\n",
       "    .dataframe tbody tr th {\n",
       "        vertical-align: top;\n",
       "    }\n",
       "\n",
       "    .dataframe thead th {\n",
       "        text-align: right;\n",
       "    }\n",
       "</style>\n",
       "<table border=\"1\" class=\"dataframe\">\n",
       "  <thead>\n",
       "    <tr style=\"text-align: right;\">\n",
       "      <th></th>\n",
       "      <th>diagonal</th>\n",
       "      <th>height_left</th>\n",
       "      <th>height_right</th>\n",
       "      <th>margin_low</th>\n",
       "      <th>margin_up</th>\n",
       "      <th>length</th>\n",
       "      <th>id</th>\n",
       "    </tr>\n",
       "  </thead>\n",
       "  <tbody>\n",
       "    <tr>\n",
       "      <th>0</th>\n",
       "      <td>171.76</td>\n",
       "      <td>104.01</td>\n",
       "      <td>103.54</td>\n",
       "      <td>5.21</td>\n",
       "      <td>3.30</td>\n",
       "      <td>111.42</td>\n",
       "      <td>A_1</td>\n",
       "    </tr>\n",
       "    <tr>\n",
       "      <th>1</th>\n",
       "      <td>171.87</td>\n",
       "      <td>104.17</td>\n",
       "      <td>104.13</td>\n",
       "      <td>6.00</td>\n",
       "      <td>3.31</td>\n",
       "      <td>112.09</td>\n",
       "      <td>A_2</td>\n",
       "    </tr>\n",
       "    <tr>\n",
       "      <th>2</th>\n",
       "      <td>172.00</td>\n",
       "      <td>104.58</td>\n",
       "      <td>104.29</td>\n",
       "      <td>4.99</td>\n",
       "      <td>3.39</td>\n",
       "      <td>111.57</td>\n",
       "      <td>A_3</td>\n",
       "    </tr>\n",
       "    <tr>\n",
       "      <th>3</th>\n",
       "      <td>172.49</td>\n",
       "      <td>104.55</td>\n",
       "      <td>104.34</td>\n",
       "      <td>4.44</td>\n",
       "      <td>3.03</td>\n",
       "      <td>113.20</td>\n",
       "      <td>A_4</td>\n",
       "    </tr>\n",
       "    <tr>\n",
       "      <th>4</th>\n",
       "      <td>171.65</td>\n",
       "      <td>103.63</td>\n",
       "      <td>103.56</td>\n",
       "      <td>3.77</td>\n",
       "      <td>3.16</td>\n",
       "      <td>113.33</td>\n",
       "      <td>A_5</td>\n",
       "    </tr>\n",
       "  </tbody>\n",
       "</table>\n",
       "</div>"
      ],
      "text/plain": [
       "   diagonal  height_left  height_right  margin_low  margin_up  length   id\n",
       "0    171.76       104.01        103.54        5.21       3.30  111.42  A_1\n",
       "1    171.87       104.17        104.13        6.00       3.31  112.09  A_2\n",
       "2    172.00       104.58        104.29        4.99       3.39  111.57  A_3\n",
       "3    172.49       104.55        104.34        4.44       3.03  113.20  A_4\n",
       "4    171.65       103.63        103.56        3.77       3.16  113.33  A_5"
      ]
     },
     "metadata": {},
     "output_type": "display_data"
    },
    {
     "name": "stdout",
     "output_type": "stream",
     "text": [
      "                                                   ************************************************** \n",
      "\n",
      "\u001b[1mNombre total de billets : \u001b[0m 5\n",
      "\u001b[1mNombre total de faux billets : \u001b[0m 3\n",
      "\u001b[1mNombre total de vrais billets : \u001b[0m 2 \n",
      "\n"
     ]
    },
    {
     "data": {
      "text/html": [
       "<div>\n",
       "<style scoped>\n",
       "    .dataframe tbody tr th:only-of-type {\n",
       "        vertical-align: middle;\n",
       "    }\n",
       "\n",
       "    .dataframe tbody tr th {\n",
       "        vertical-align: top;\n",
       "    }\n",
       "\n",
       "    .dataframe thead th {\n",
       "        text-align: right;\n",
       "    }\n",
       "</style>\n",
       "<table border=\"1\" class=\"dataframe\">\n",
       "  <thead>\n",
       "    <tr style=\"text-align: right;\">\n",
       "      <th></th>\n",
       "      <th>diagonal</th>\n",
       "      <th>height_left</th>\n",
       "      <th>height_right</th>\n",
       "      <th>margin_low</th>\n",
       "      <th>margin_up</th>\n",
       "      <th>length</th>\n",
       "      <th>id</th>\n",
       "      <th>proba_false</th>\n",
       "      <th>proba_true</th>\n",
       "      <th>prediction</th>\n",
       "    </tr>\n",
       "  </thead>\n",
       "  <tbody>\n",
       "    <tr>\n",
       "      <th>0</th>\n",
       "      <td>171.76</td>\n",
       "      <td>104.01</td>\n",
       "      <td>103.54</td>\n",
       "      <td>5.21</td>\n",
       "      <td>3.30</td>\n",
       "      <td>111.42</td>\n",
       "      <td>A_1</td>\n",
       "      <td>0.996543</td>\n",
       "      <td>0.003457</td>\n",
       "      <td>False</td>\n",
       "    </tr>\n",
       "    <tr>\n",
       "      <th>1</th>\n",
       "      <td>171.87</td>\n",
       "      <td>104.17</td>\n",
       "      <td>104.13</td>\n",
       "      <td>6.00</td>\n",
       "      <td>3.31</td>\n",
       "      <td>112.09</td>\n",
       "      <td>A_2</td>\n",
       "      <td>0.999039</td>\n",
       "      <td>0.000961</td>\n",
       "      <td>False</td>\n",
       "    </tr>\n",
       "    <tr>\n",
       "      <th>2</th>\n",
       "      <td>172.00</td>\n",
       "      <td>104.58</td>\n",
       "      <td>104.29</td>\n",
       "      <td>4.99</td>\n",
       "      <td>3.39</td>\n",
       "      <td>111.57</td>\n",
       "      <td>A_3</td>\n",
       "      <td>0.997948</td>\n",
       "      <td>0.002052</td>\n",
       "      <td>False</td>\n",
       "    </tr>\n",
       "    <tr>\n",
       "      <th>3</th>\n",
       "      <td>172.49</td>\n",
       "      <td>104.55</td>\n",
       "      <td>104.34</td>\n",
       "      <td>4.44</td>\n",
       "      <td>3.03</td>\n",
       "      <td>113.20</td>\n",
       "      <td>A_4</td>\n",
       "      <td>0.040082</td>\n",
       "      <td>0.959918</td>\n",
       "      <td>True</td>\n",
       "    </tr>\n",
       "    <tr>\n",
       "      <th>4</th>\n",
       "      <td>171.65</td>\n",
       "      <td>103.63</td>\n",
       "      <td>103.56</td>\n",
       "      <td>3.77</td>\n",
       "      <td>3.16</td>\n",
       "      <td>113.33</td>\n",
       "      <td>A_5</td>\n",
       "      <td>0.000686</td>\n",
       "      <td>0.999314</td>\n",
       "      <td>True</td>\n",
       "    </tr>\n",
       "  </tbody>\n",
       "</table>\n",
       "</div>"
      ],
      "text/plain": [
       "   diagonal  height_left  height_right  margin_low  margin_up  length   id  \\\n",
       "0    171.76       104.01        103.54        5.21       3.30  111.42  A_1   \n",
       "1    171.87       104.17        104.13        6.00       3.31  112.09  A_2   \n",
       "2    172.00       104.58        104.29        4.99       3.39  111.57  A_3   \n",
       "3    172.49       104.55        104.34        4.44       3.03  113.20  A_4   \n",
       "4    171.65       103.63        103.56        3.77       3.16  113.33  A_5   \n",
       "\n",
       "   proba_false  proba_true  prediction  \n",
       "0     0.996543    0.003457       False  \n",
       "1     0.999039    0.000961       False  \n",
       "2     0.997948    0.002052       False  \n",
       "3     0.040082    0.959918        True  \n",
       "4     0.000686    0.999314        True  "
      ]
     },
     "metadata": {},
     "output_type": "display_data"
    },
    {
     "name": "stdout",
     "output_type": "stream",
     "text": [
      "                                                   ************************************************** \n",
      "\n"
     ]
    }
   ],
   "source": [
    "fake_detect(\"billets_production.csv\", model_opti)"
   ]
  },
  {
   "cell_type": "markdown",
   "id": "8dcd37fc",
   "metadata": {
    "ExecuteTime": {
     "end_time": "2022-11-27T21:43:49.456656Z",
     "start_time": "2022-11-27T21:43:49.449078Z"
    }
   },
   "source": [
    "**Test 2 : soutenance projet**\n",
    "\n",
    "---"
   ]
  },
  {
   "cell_type": "code",
   "execution_count": 80,
   "id": "89404a8f",
   "metadata": {
    "ExecuteTime": {
     "end_time": "2022-12-02T06:28:17.975709Z",
     "start_time": "2022-12-02T06:28:17.921236Z"
    }
   },
   "outputs": [
    {
     "data": {
      "text/html": [
       "<div>\n",
       "<style scoped>\n",
       "    .dataframe tbody tr th:only-of-type {\n",
       "        vertical-align: middle;\n",
       "    }\n",
       "\n",
       "    .dataframe tbody tr th {\n",
       "        vertical-align: top;\n",
       "    }\n",
       "\n",
       "    .dataframe thead th {\n",
       "        text-align: right;\n",
       "    }\n",
       "</style>\n",
       "<table border=\"1\" class=\"dataframe\">\n",
       "  <thead>\n",
       "    <tr style=\"text-align: right;\">\n",
       "      <th></th>\n",
       "      <th>diagonal</th>\n",
       "      <th>height_left</th>\n",
       "      <th>height_right</th>\n",
       "      <th>margin_low</th>\n",
       "      <th>margin_up</th>\n",
       "      <th>length</th>\n",
       "      <th>id</th>\n",
       "    </tr>\n",
       "  </thead>\n",
       "  <tbody>\n",
       "    <tr>\n",
       "      <th>0</th>\n",
       "      <td>172.09</td>\n",
       "      <td>103.95</td>\n",
       "      <td>103.73</td>\n",
       "      <td>4.39</td>\n",
       "      <td>3.09</td>\n",
       "      <td>113.19</td>\n",
       "      <td>B_1</td>\n",
       "    </tr>\n",
       "    <tr>\n",
       "      <th>1</th>\n",
       "      <td>171.52</td>\n",
       "      <td>104.17</td>\n",
       "      <td>104.03</td>\n",
       "      <td>5.27</td>\n",
       "      <td>3.16</td>\n",
       "      <td>111.82</td>\n",
       "      <td>B_2</td>\n",
       "    </tr>\n",
       "    <tr>\n",
       "      <th>2</th>\n",
       "      <td>171.78</td>\n",
       "      <td>103.80</td>\n",
       "      <td>103.75</td>\n",
       "      <td>3.81</td>\n",
       "      <td>3.24</td>\n",
       "      <td>113.39</td>\n",
       "      <td>B_3</td>\n",
       "    </tr>\n",
       "    <tr>\n",
       "      <th>3</th>\n",
       "      <td>172.02</td>\n",
       "      <td>104.08</td>\n",
       "      <td>103.99</td>\n",
       "      <td>5.57</td>\n",
       "      <td>3.30</td>\n",
       "      <td>111.10</td>\n",
       "      <td>B_4</td>\n",
       "    </tr>\n",
       "    <tr>\n",
       "      <th>4</th>\n",
       "      <td>171.79</td>\n",
       "      <td>104.34</td>\n",
       "      <td>104.37</td>\n",
       "      <td>5.00</td>\n",
       "      <td>3.07</td>\n",
       "      <td>111.87</td>\n",
       "      <td>B_5</td>\n",
       "    </tr>\n",
       "  </tbody>\n",
       "</table>\n",
       "</div>"
      ],
      "text/plain": [
       "   diagonal  height_left  height_right  margin_low  margin_up  length   id\n",
       "0    172.09       103.95        103.73        4.39       3.09  113.19  B_1\n",
       "1    171.52       104.17        104.03        5.27       3.16  111.82  B_2\n",
       "2    171.78       103.80        103.75        3.81       3.24  113.39  B_3\n",
       "3    172.02       104.08        103.99        5.57       3.30  111.10  B_4\n",
       "4    171.79       104.34        104.37        5.00       3.07  111.87  B_5"
      ]
     },
     "metadata": {},
     "output_type": "display_data"
    },
    {
     "name": "stdout",
     "output_type": "stream",
     "text": [
      "                                                   ************************************************** \n",
      "\n",
      "\u001b[1mNombre total de billets : \u001b[0m 5\n",
      "\u001b[1mNombre total de faux billets : \u001b[0m 3\n",
      "\u001b[1mNombre total de vrais billets : \u001b[0m 2 \n",
      "\n"
     ]
    },
    {
     "data": {
      "text/html": [
       "<div>\n",
       "<style scoped>\n",
       "    .dataframe tbody tr th:only-of-type {\n",
       "        vertical-align: middle;\n",
       "    }\n",
       "\n",
       "    .dataframe tbody tr th {\n",
       "        vertical-align: top;\n",
       "    }\n",
       "\n",
       "    .dataframe thead th {\n",
       "        text-align: right;\n",
       "    }\n",
       "</style>\n",
       "<table border=\"1\" class=\"dataframe\">\n",
       "  <thead>\n",
       "    <tr style=\"text-align: right;\">\n",
       "      <th></th>\n",
       "      <th>diagonal</th>\n",
       "      <th>height_left</th>\n",
       "      <th>height_right</th>\n",
       "      <th>margin_low</th>\n",
       "      <th>margin_up</th>\n",
       "      <th>length</th>\n",
       "      <th>id</th>\n",
       "      <th>proba_false</th>\n",
       "      <th>proba_true</th>\n",
       "      <th>prediction</th>\n",
       "    </tr>\n",
       "  </thead>\n",
       "  <tbody>\n",
       "    <tr>\n",
       "      <th>0</th>\n",
       "      <td>172.09</td>\n",
       "      <td>103.95</td>\n",
       "      <td>103.73</td>\n",
       "      <td>4.39</td>\n",
       "      <td>3.09</td>\n",
       "      <td>113.19</td>\n",
       "      <td>B_1</td>\n",
       "      <td>0.011486</td>\n",
       "      <td>0.988514</td>\n",
       "      <td>True</td>\n",
       "    </tr>\n",
       "    <tr>\n",
       "      <th>1</th>\n",
       "      <td>171.52</td>\n",
       "      <td>104.17</td>\n",
       "      <td>104.03</td>\n",
       "      <td>5.27</td>\n",
       "      <td>3.16</td>\n",
       "      <td>111.82</td>\n",
       "      <td>B_2</td>\n",
       "      <td>0.993388</td>\n",
       "      <td>0.006612</td>\n",
       "      <td>False</td>\n",
       "    </tr>\n",
       "    <tr>\n",
       "      <th>2</th>\n",
       "      <td>171.78</td>\n",
       "      <td>103.80</td>\n",
       "      <td>103.75</td>\n",
       "      <td>3.81</td>\n",
       "      <td>3.24</td>\n",
       "      <td>113.39</td>\n",
       "      <td>B_3</td>\n",
       "      <td>0.001177</td>\n",
       "      <td>0.998823</td>\n",
       "      <td>True</td>\n",
       "    </tr>\n",
       "    <tr>\n",
       "      <th>3</th>\n",
       "      <td>172.02</td>\n",
       "      <td>104.08</td>\n",
       "      <td>103.99</td>\n",
       "      <td>5.57</td>\n",
       "      <td>3.30</td>\n",
       "      <td>111.10</td>\n",
       "      <td>B_4</td>\n",
       "      <td>0.999838</td>\n",
       "      <td>0.000162</td>\n",
       "      <td>False</td>\n",
       "    </tr>\n",
       "    <tr>\n",
       "      <th>4</th>\n",
       "      <td>171.79</td>\n",
       "      <td>104.34</td>\n",
       "      <td>104.37</td>\n",
       "      <td>5.00</td>\n",
       "      <td>3.07</td>\n",
       "      <td>111.87</td>\n",
       "      <td>B_5</td>\n",
       "      <td>0.984397</td>\n",
       "      <td>0.015603</td>\n",
       "      <td>False</td>\n",
       "    </tr>\n",
       "  </tbody>\n",
       "</table>\n",
       "</div>"
      ],
      "text/plain": [
       "   diagonal  height_left  height_right  margin_low  margin_up  length   id  \\\n",
       "0    172.09       103.95        103.73        4.39       3.09  113.19  B_1   \n",
       "1    171.52       104.17        104.03        5.27       3.16  111.82  B_2   \n",
       "2    171.78       103.80        103.75        3.81       3.24  113.39  B_3   \n",
       "3    172.02       104.08        103.99        5.57       3.30  111.10  B_4   \n",
       "4    171.79       104.34        104.37        5.00       3.07  111.87  B_5   \n",
       "\n",
       "   proba_false  proba_true  prediction  \n",
       "0     0.011486    0.988514        True  \n",
       "1     0.993388    0.006612       False  \n",
       "2     0.001177    0.998823        True  \n",
       "3     0.999838    0.000162       False  \n",
       "4     0.984397    0.015603       False  "
      ]
     },
     "metadata": {},
     "output_type": "display_data"
    },
    {
     "name": "stdout",
     "output_type": "stream",
     "text": [
      "                                                   ************************************************** \n",
      "\n"
     ]
    }
   ],
   "source": [
    "# Dataset à tester\n",
    "fake_detect(\"billets_test.csv\", model_opti)"
   ]
  },
  {
   "cell_type": "code",
   "execution_count": null,
   "id": "7134df17",
   "metadata": {},
   "outputs": [],
   "source": []
  }
 ],
 "metadata": {
  "hide_input": false,
  "kernelspec": {
   "display_name": "Python 3 (ipykernel)",
   "language": "python",
   "name": "python3"
  },
  "language_info": {
   "codemirror_mode": {
    "name": "ipython",
    "version": 3
   },
   "file_extension": ".py",
   "mimetype": "text/x-python",
   "name": "python",
   "nbconvert_exporter": "python",
   "pygments_lexer": "ipython3",
   "version": "3.9.7"
  },
  "latex_envs": {
   "LaTeX_envs_menu_present": true,
   "autoclose": false,
   "autocomplete": true,
   "bibliofile": "biblio.bib",
   "cite_by": "apalike",
   "current_citInitial": 1,
   "eqLabelWithNumbers": true,
   "eqNumInitial": 1,
   "hotkeys": {
    "equation": "Ctrl-E",
    "itemize": "Ctrl-I"
   },
   "labels_anchors": false,
   "latex_user_defs": false,
   "report_style_numbering": false,
   "user_envs_cfg": false
  },
  "nbTranslate": {
   "displayLangs": [
    "*"
   ],
   "hotkey": "alt-t",
   "langInMainMenu": true,
   "sourceLang": "en",
   "targetLang": "fr",
   "useGoogleTranslate": true
  },
  "toc": {
   "base_numbering": 1,
   "nav_menu": {},
   "number_sections": true,
   "sideBar": true,
   "skip_h1_title": false,
   "title_cell": "Table of Contents",
   "title_sidebar": "Contents",
   "toc_cell": false,
   "toc_position": {
    "height": "calc(100% - 180px)",
    "left": "10px",
    "top": "150px",
    "width": "280px"
   },
   "toc_section_display": true,
   "toc_window_display": true
  },
  "varInspector": {
   "cols": {
    "lenName": 16,
    "lenType": 16,
    "lenVar": 40
   },
   "kernels_config": {
    "python": {
     "delete_cmd_postfix": "",
     "delete_cmd_prefix": "del ",
     "library": "var_list.py",
     "varRefreshCmd": "print(var_dic_list())"
    },
    "r": {
     "delete_cmd_postfix": ") ",
     "delete_cmd_prefix": "rm(",
     "library": "var_list.r",
     "varRefreshCmd": "cat(var_dic_list()) "
    }
   },
   "types_to_exclude": [
    "module",
    "function",
    "builtin_function_or_method",
    "instance",
    "_Feature"
   ],
   "window_display": false
  }
 },
 "nbformat": 4,
 "nbformat_minor": 5
}
